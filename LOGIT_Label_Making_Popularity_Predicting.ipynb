{
  "cells": [
    {
      "cell_type": "markdown",
      "metadata": {
        "id": "view-in-github",
        "colab_type": "text"
      },
      "source": [
        "<a href=\"https://colab.research.google.com/github/dramfin/Spotify-Song-Popularity-Prediction-ML/blob/main/LOGIT_Label_Making_Popularity_Predicting.ipynb\" target=\"_parent\"><img src=\"https://colab.research.google.com/assets/colab-badge.svg\" alt=\"Open In Colab\"/></a>"
      ]
    },
    {
      "cell_type": "markdown",
      "metadata": {
        "id": "EsG-vpl1tYvU"
      },
      "source": []
    },
    {
      "cell_type": "markdown",
      "metadata": {
        "id": "e4G3aKDIs_ky"
      },
      "source": [
        "url for data set : https://www.kaggle.com/datasets/maharshipandya/-spotify-tracks-dataset"
      ]
    },
    {
      "cell_type": "code",
      "execution_count": null,
      "metadata": {
        "colab": {
          "base_uri": "https://localhost:8080/",
          "height": 74
        },
        "id": "sOIhmRyoIpXJ",
        "outputId": "8df075cb-a9f4-4460-fc4c-c962e1a49097",
        "collapsed": true
      },
      "outputs": [
        {
          "output_type": "display_data",
          "data": {
            "text/plain": [
              "<IPython.core.display.HTML object>"
            ],
            "text/html": [
              "\n",
              "     <input type=\"file\" id=\"files-dcbea630-e792-4b49-861b-e943622b4730\" name=\"files[]\" multiple disabled\n",
              "        style=\"border:none\" />\n",
              "     <output id=\"result-dcbea630-e792-4b49-861b-e943622b4730\">\n",
              "      Upload widget is only available when the cell has been executed in the\n",
              "      current browser session. Please rerun this cell to enable.\n",
              "      </output>\n",
              "      <script>// Copyright 2017 Google LLC\n",
              "//\n",
              "// Licensed under the Apache License, Version 2.0 (the \"License\");\n",
              "// you may not use this file except in compliance with the License.\n",
              "// You may obtain a copy of the License at\n",
              "//\n",
              "//      http://www.apache.org/licenses/LICENSE-2.0\n",
              "//\n",
              "// Unless required by applicable law or agreed to in writing, software\n",
              "// distributed under the License is distributed on an \"AS IS\" BASIS,\n",
              "// WITHOUT WARRANTIES OR CONDITIONS OF ANY KIND, either express or implied.\n",
              "// See the License for the specific language governing permissions and\n",
              "// limitations under the License.\n",
              "\n",
              "/**\n",
              " * @fileoverview Helpers for google.colab Python module.\n",
              " */\n",
              "(function(scope) {\n",
              "function span(text, styleAttributes = {}) {\n",
              "  const element = document.createElement('span');\n",
              "  element.textContent = text;\n",
              "  for (const key of Object.keys(styleAttributes)) {\n",
              "    element.style[key] = styleAttributes[key];\n",
              "  }\n",
              "  return element;\n",
              "}\n",
              "\n",
              "// Max number of bytes which will be uploaded at a time.\n",
              "const MAX_PAYLOAD_SIZE = 100 * 1024;\n",
              "\n",
              "function _uploadFiles(inputId, outputId) {\n",
              "  const steps = uploadFilesStep(inputId, outputId);\n",
              "  const outputElement = document.getElementById(outputId);\n",
              "  // Cache steps on the outputElement to make it available for the next call\n",
              "  // to uploadFilesContinue from Python.\n",
              "  outputElement.steps = steps;\n",
              "\n",
              "  return _uploadFilesContinue(outputId);\n",
              "}\n",
              "\n",
              "// This is roughly an async generator (not supported in the browser yet),\n",
              "// where there are multiple asynchronous steps and the Python side is going\n",
              "// to poll for completion of each step.\n",
              "// This uses a Promise to block the python side on completion of each step,\n",
              "// then passes the result of the previous step as the input to the next step.\n",
              "function _uploadFilesContinue(outputId) {\n",
              "  const outputElement = document.getElementById(outputId);\n",
              "  const steps = outputElement.steps;\n",
              "\n",
              "  const next = steps.next(outputElement.lastPromiseValue);\n",
              "  return Promise.resolve(next.value.promise).then((value) => {\n",
              "    // Cache the last promise value to make it available to the next\n",
              "    // step of the generator.\n",
              "    outputElement.lastPromiseValue = value;\n",
              "    return next.value.response;\n",
              "  });\n",
              "}\n",
              "\n",
              "/**\n",
              " * Generator function which is called between each async step of the upload\n",
              " * process.\n",
              " * @param {string} inputId Element ID of the input file picker element.\n",
              " * @param {string} outputId Element ID of the output display.\n",
              " * @return {!Iterable<!Object>} Iterable of next steps.\n",
              " */\n",
              "function* uploadFilesStep(inputId, outputId) {\n",
              "  const inputElement = document.getElementById(inputId);\n",
              "  inputElement.disabled = false;\n",
              "\n",
              "  const outputElement = document.getElementById(outputId);\n",
              "  outputElement.innerHTML = '';\n",
              "\n",
              "  const pickedPromise = new Promise((resolve) => {\n",
              "    inputElement.addEventListener('change', (e) => {\n",
              "      resolve(e.target.files);\n",
              "    });\n",
              "  });\n",
              "\n",
              "  const cancel = document.createElement('button');\n",
              "  inputElement.parentElement.appendChild(cancel);\n",
              "  cancel.textContent = 'Cancel upload';\n",
              "  const cancelPromise = new Promise((resolve) => {\n",
              "    cancel.onclick = () => {\n",
              "      resolve(null);\n",
              "    };\n",
              "  });\n",
              "\n",
              "  // Wait for the user to pick the files.\n",
              "  const files = yield {\n",
              "    promise: Promise.race([pickedPromise, cancelPromise]),\n",
              "    response: {\n",
              "      action: 'starting',\n",
              "    }\n",
              "  };\n",
              "\n",
              "  cancel.remove();\n",
              "\n",
              "  // Disable the input element since further picks are not allowed.\n",
              "  inputElement.disabled = true;\n",
              "\n",
              "  if (!files) {\n",
              "    return {\n",
              "      response: {\n",
              "        action: 'complete',\n",
              "      }\n",
              "    };\n",
              "  }\n",
              "\n",
              "  for (const file of files) {\n",
              "    const li = document.createElement('li');\n",
              "    li.append(span(file.name, {fontWeight: 'bold'}));\n",
              "    li.append(span(\n",
              "        `(${file.type || 'n/a'}) - ${file.size} bytes, ` +\n",
              "        `last modified: ${\n",
              "            file.lastModifiedDate ? file.lastModifiedDate.toLocaleDateString() :\n",
              "                                    'n/a'} - `));\n",
              "    const percent = span('0% done');\n",
              "    li.appendChild(percent);\n",
              "\n",
              "    outputElement.appendChild(li);\n",
              "\n",
              "    const fileDataPromise = new Promise((resolve) => {\n",
              "      const reader = new FileReader();\n",
              "      reader.onload = (e) => {\n",
              "        resolve(e.target.result);\n",
              "      };\n",
              "      reader.readAsArrayBuffer(file);\n",
              "    });\n",
              "    // Wait for the data to be ready.\n",
              "    let fileData = yield {\n",
              "      promise: fileDataPromise,\n",
              "      response: {\n",
              "        action: 'continue',\n",
              "      }\n",
              "    };\n",
              "\n",
              "    // Use a chunked sending to avoid message size limits. See b/62115660.\n",
              "    let position = 0;\n",
              "    do {\n",
              "      const length = Math.min(fileData.byteLength - position, MAX_PAYLOAD_SIZE);\n",
              "      const chunk = new Uint8Array(fileData, position, length);\n",
              "      position += length;\n",
              "\n",
              "      const base64 = btoa(String.fromCharCode.apply(null, chunk));\n",
              "      yield {\n",
              "        response: {\n",
              "          action: 'append',\n",
              "          file: file.name,\n",
              "          data: base64,\n",
              "        },\n",
              "      };\n",
              "\n",
              "      let percentDone = fileData.byteLength === 0 ?\n",
              "          100 :\n",
              "          Math.round((position / fileData.byteLength) * 100);\n",
              "      percent.textContent = `${percentDone}% done`;\n",
              "\n",
              "    } while (position < fileData.byteLength);\n",
              "  }\n",
              "\n",
              "  // All done.\n",
              "  yield {\n",
              "    response: {\n",
              "      action: 'complete',\n",
              "    }\n",
              "  };\n",
              "}\n",
              "\n",
              "scope.google = scope.google || {};\n",
              "scope.google.colab = scope.google.colab || {};\n",
              "scope.google.colab._files = {\n",
              "  _uploadFiles,\n",
              "  _uploadFilesContinue,\n",
              "};\n",
              "})(self);\n",
              "</script> "
            ]
          },
          "metadata": {}
        },
        {
          "output_type": "stream",
          "name": "stdout",
          "text": [
            "Saving dataset.csv to dataset.csv\n"
          ]
        }
      ],
      "source": [
        "from google.colab import files\n",
        "uploaded = files.upload()"
      ]
    },
    {
      "cell_type": "code",
      "execution_count": null,
      "metadata": {
        "id": "CTbDbDz4JnbG"
      },
      "outputs": [],
      "source": [
        "import pandas as pd\n",
        "import numpy as np\n",
        "import seaborn as sns\n",
        "import matplotlib.pyplot as plt"
      ]
    },
    {
      "cell_type": "code",
      "execution_count": null,
      "metadata": {
        "id": "S4gTrxcMJqQG",
        "collapsed": true,
        "colab": {
          "base_uri": "https://localhost:8080/"
        },
        "outputId": "b386910d-7f36-4c00-f683-47bd0dc582cb"
      },
      "outputs": [
        {
          "output_type": "stream",
          "name": "stdout",
          "text": [
            "   Unnamed: 0                track_id                               artists  \\\n",
            "0           0  5SuOikwiRyPMVoIQDJUgSV                           Gen Hoshino   \n",
            "1           1  4qPNDBW1i3p13qLCt0Ki3A                          Ben Woodward   \n",
            "2           2  1iJBSr7s7jYXzM8EGcbK5b                Ingrid Michaelson;ZAYN   \n",
            "3           3  6lfxq3CG4xtTiEg7opyCyx                          Kina Grannis   \n",
            "4           4  5vjLSffimiIP26QG5WcN2K                      Chord Overstreet   \n",
            "5           5  01MVOl9KtVTNfFiBU9I7dc                          Tyrone Wells   \n",
            "6           6  6Vc5wAMmXdKIAM7WUoEb7N  A Great Big World;Christina Aguilera   \n",
            "7           7  1EzrEOXmMH3G43AXT1y7pA                            Jason Mraz   \n",
            "8           8  0IktbUcnAGrvD03AWnz3Q8             Jason Mraz;Colbie Caillat   \n",
            "9           9  7k9GuJYLp2AzqokyEdwEw2                        Ross Copperman   \n",
            "\n",
            "                                          album_name  \\\n",
            "0                                             Comedy   \n",
            "1                                   Ghost (Acoustic)   \n",
            "2                                     To Begin Again   \n",
            "3  Crazy Rich Asians (Original Motion Picture Sou...   \n",
            "4                                            Hold On   \n",
            "5                               Days I Will Remember   \n",
            "6                        Is There Anybody Out There?   \n",
            "7                We Sing. We Dance. We Steal Things.   \n",
            "8                We Sing. We Dance. We Steal Things.   \n",
            "9                                             Hunger   \n",
            "\n",
            "                   track_name  popularity  duration_ms  explicit  \\\n",
            "0                      Comedy          73       230666     False   \n",
            "1            Ghost - Acoustic          55       149610     False   \n",
            "2              To Begin Again          57       210826     False   \n",
            "3  Can't Help Falling In Love          71       201933     False   \n",
            "4                     Hold On          82       198853     False   \n",
            "5        Days I Will Remember          58       214240     False   \n",
            "6               Say Something          74       229400     False   \n",
            "7                   I'm Yours          80       242946     False   \n",
            "8                       Lucky          74       189613     False   \n",
            "9                      Hunger          56       205594     False   \n",
            "\n",
            "   danceability  energy  ...  loudness  mode  speechiness  acousticness  \\\n",
            "0         0.676  0.4610  ...    -6.746     0       0.1430        0.0322   \n",
            "1         0.420  0.1660  ...   -17.235     1       0.0763        0.9240   \n",
            "2         0.438  0.3590  ...    -9.734     1       0.0557        0.2100   \n",
            "3         0.266  0.0596  ...   -18.515     1       0.0363        0.9050   \n",
            "4         0.618  0.4430  ...    -9.681     1       0.0526        0.4690   \n",
            "5         0.688  0.4810  ...    -8.807     1       0.1050        0.2890   \n",
            "6         0.407  0.1470  ...    -8.822     1       0.0355        0.8570   \n",
            "7         0.703  0.4440  ...    -9.331     1       0.0417        0.5590   \n",
            "8         0.625  0.4140  ...    -8.700     1       0.0369        0.2940   \n",
            "9         0.442  0.6320  ...    -6.770     1       0.0295        0.4260   \n",
            "\n",
            "   instrumentalness  liveness  valence    tempo  time_signature  track_genre  \n",
            "0          0.000001    0.3580   0.7150   87.917               4     acoustic  \n",
            "1          0.000006    0.1010   0.2670   77.489               4     acoustic  \n",
            "2          0.000000    0.1170   0.1200   76.332               4     acoustic  \n",
            "3          0.000071    0.1320   0.1430  181.740               3     acoustic  \n",
            "4          0.000000    0.0829   0.1670  119.949               4     acoustic  \n",
            "5          0.000000    0.1890   0.6660   98.017               4     acoustic  \n",
            "6          0.000003    0.0913   0.0765  141.284               3     acoustic  \n",
            "7          0.000000    0.0973   0.7120  150.960               4     acoustic  \n",
            "8          0.000000    0.1510   0.6690  130.088               4     acoustic  \n",
            "9          0.004190    0.0735   0.1960   78.899               4     acoustic  \n",
            "\n",
            "[10 rows x 21 columns]\n",
            "['Unnamed: 0' 'track_id' 'artists' 'album_name' 'track_name' 'popularity'\n",
            " 'duration_ms' 'explicit' 'danceability' 'energy' 'key' 'loudness' 'mode'\n",
            " 'speechiness' 'acousticness' 'instrumentalness' 'liveness' 'valence'\n",
            " 'tempo' 'time_signature' 'track_genre']\n",
            "(114000, 21)\n"
          ]
        }
      ],
      "source": [
        "#Import CSV\n",
        "\n",
        "df = pd.read_csv('dataset.csv')\n",
        "\n",
        "print(df.head(10))\n",
        "\n",
        "print(df.columns.values)\n",
        "\n",
        "print(df.shape)"
      ]
    },
    {
      "cell_type": "code",
      "execution_count": null,
      "metadata": {
        "collapsed": true,
        "id": "qBBHoy9XKM6Y",
        "colab": {
          "base_uri": "https://localhost:8080/"
        },
        "outputId": "9cecb028-a8ed-4627-f078-d4e28ca35ac4"
      },
      "outputs": [
        {
          "output_type": "stream",
          "name": "stdout",
          "text": [
            "        Unnamed: 0                track_id                 artists  \\\n",
            "0                0  5SuOikwiRyPMVoIQDJUgSV             Gen Hoshino   \n",
            "1                1  4qPNDBW1i3p13qLCt0Ki3A            Ben Woodward   \n",
            "2                2  1iJBSr7s7jYXzM8EGcbK5b  Ingrid Michaelson;ZAYN   \n",
            "3                3  6lfxq3CG4xtTiEg7opyCyx            Kina Grannis   \n",
            "4                4  5vjLSffimiIP26QG5WcN2K        Chord Overstreet   \n",
            "...            ...                     ...                     ...   \n",
            "113995      113995  2C3TZjDRiAzdyViavDJ217           Rainy Lullaby   \n",
            "113996      113996  1hIz5L4IB9hN3WRYPOCGPw           Rainy Lullaby   \n",
            "113997      113997  6x8ZfSoqDjuNa5SVP5QjvX           Cesária Evora   \n",
            "113998      113998  2e6sXL2bYv4bSz6VTdnfLs        Michael W. Smith   \n",
            "113999      113999  2hETkH7cOfqmz3LqZDHZf5           Cesária Evora   \n",
            "\n",
            "                                               album_name  \\\n",
            "0                                                  Comedy   \n",
            "1                                        Ghost (Acoustic)   \n",
            "2                                          To Begin Again   \n",
            "3       Crazy Rich Asians (Original Motion Picture Sou...   \n",
            "4                                                 Hold On   \n",
            "...                                                   ...   \n",
            "113995  #mindfulness - Soft Rain for Mindful Meditatio...   \n",
            "113996  #mindfulness - Soft Rain for Mindful Meditatio...   \n",
            "113997                                            Best Of   \n",
            "113998                                  Change Your World   \n",
            "113999                                     Miss Perfumado   \n",
            "\n",
            "                        track_name  popularity  duration_ms  explicit  \\\n",
            "0                           Comedy          73       230666     False   \n",
            "1                 Ghost - Acoustic          55       149610     False   \n",
            "2                   To Begin Again          57       210826     False   \n",
            "3       Can't Help Falling In Love          71       201933     False   \n",
            "4                          Hold On          82       198853     False   \n",
            "...                            ...         ...          ...       ...   \n",
            "113995         Sleep My Little Boy          21       384999     False   \n",
            "113996            Water Into Light          22       385000     False   \n",
            "113997              Miss Perfumado          22       271466     False   \n",
            "113998                     Friends          41       283893     False   \n",
            "113999                   Barbincor          22       241826     False   \n",
            "\n",
            "        danceability  energy  ...  loudness  mode  speechiness  acousticness  \\\n",
            "0              0.676  0.4610  ...    -6.746     0       0.1430        0.0322   \n",
            "1              0.420  0.1660  ...   -17.235     1       0.0763        0.9240   \n",
            "2              0.438  0.3590  ...    -9.734     1       0.0557        0.2100   \n",
            "3              0.266  0.0596  ...   -18.515     1       0.0363        0.9050   \n",
            "4              0.618  0.4430  ...    -9.681     1       0.0526        0.4690   \n",
            "...              ...     ...  ...       ...   ...          ...           ...   \n",
            "113995         0.172  0.2350  ...   -16.393     1       0.0422        0.6400   \n",
            "113996         0.174  0.1170  ...   -18.318     0       0.0401        0.9940   \n",
            "113997         0.629  0.3290  ...   -10.895     0       0.0420        0.8670   \n",
            "113998         0.587  0.5060  ...   -10.889     1       0.0297        0.3810   \n",
            "113999         0.526  0.4870  ...   -10.204     0       0.0725        0.6810   \n",
            "\n",
            "        instrumentalness  liveness  valence    tempo  time_signature  \\\n",
            "0               0.000001    0.3580   0.7150   87.917               4   \n",
            "1               0.000006    0.1010   0.2670   77.489               4   \n",
            "2               0.000000    0.1170   0.1200   76.332               4   \n",
            "3               0.000071    0.1320   0.1430  181.740               3   \n",
            "4               0.000000    0.0829   0.1670  119.949               4   \n",
            "...                  ...       ...      ...      ...             ...   \n",
            "113995          0.928000    0.0863   0.0339  125.995               5   \n",
            "113996          0.976000    0.1050   0.0350   85.239               4   \n",
            "113997          0.000000    0.0839   0.7430  132.378               4   \n",
            "113998          0.000000    0.2700   0.4130  135.960               4   \n",
            "113999          0.000000    0.0893   0.7080   79.198               4   \n",
            "\n",
            "        track_genre  \n",
            "0          acoustic  \n",
            "1          acoustic  \n",
            "2          acoustic  \n",
            "3          acoustic  \n",
            "4          acoustic  \n",
            "...             ...  \n",
            "113995  world-music  \n",
            "113996  world-music  \n",
            "113997  world-music  \n",
            "113998  world-music  \n",
            "113999  world-music  \n",
            "\n",
            "[113999 rows x 21 columns]\n"
          ]
        }
      ],
      "source": [
        "#Missing Value Imputation\n",
        "\n",
        "df.isnull().sum()\n",
        "\n",
        "print(df.dropna())\n",
        "\n",
        "DV = 'popularity'\n",
        "\n",
        "df_sample1 = df.dropna(subset=[DV])\n",
        "\n",
        "rvar_list = ['track_id','album_name','track_name','key','mode'] #Not needed\n",
        "\n",
        "df_sample1 = df.drop(columns=rvar_list)"
      ]
    },
    {
      "cell_type": "code",
      "execution_count": null,
      "metadata": {
        "collapsed": true,
        "id": "77M91crhNT2T",
        "colab": {
          "base_uri": "https://localhost:8080/"
        },
        "outputId": "13f679cc-5da9-4af4-f760-077b023f9f67"
      },
      "outputs": [
        {
          "output_type": "stream",
          "name": "stdout",
          "text": [
            "['Unnamed: 0' 'artists' 'popularity' 'duration_ms' 'explicit'\n",
            " 'danceability' 'energy' 'loudness' 'speechiness' 'acousticness'\n",
            " 'instrumentalness' 'liveness' 'valence' 'tempo' 'time_signature'\n",
            " 'track_genre']\n"
          ]
        }
      ],
      "source": [
        "#Verify Columns\n",
        "print(df_sample1.columns.values)"
      ]
    },
    {
      "cell_type": "code",
      "execution_count": null,
      "metadata": {
        "id": "5TMGf4KkN0rv"
      },
      "outputs": [],
      "source": [
        "#Organize Variables Into Categories\n",
        "\n",
        "cvar_list = [\n",
        "    'artists'\n",
        "    ,'explicit'\n",
        "    ,'track_genre']\n",
        "nvar_list = [\n",
        "    'duration_ms'\n",
        "    ,'danceability'\n",
        "    ,'energy'\n",
        "    ,'loudness'\n",
        "    ,'speechiness'\n",
        "    ,'acousticness'\n",
        "    ,'instrumentalness'\n",
        "    ,'liveness'\n",
        "    ,'valence'\n",
        "    ,'tempo'\n",
        "    ,'time_signature']"
      ]
    },
    {
      "cell_type": "code",
      "execution_count": null,
      "metadata": {
        "id": "ZecS18xIa-o1",
        "colab": {
          "base_uri": "https://localhost:8080/",
          "height": 1000
        },
        "outputId": "c79d2e5a-1e34-4b7e-caa3-ad7be164ba71"
      },
      "outputs": [
        {
          "output_type": "stream",
          "name": "stdout",
          "text": [
            "                  Unnamed: 0  popularity  duration_ms  danceability    energy  \\\n",
            "Unnamed: 0          1.000000    0.032142    -0.032743      0.003444 -0.055994   \n",
            "popularity          0.032142    1.000000    -0.007101      0.035448  0.001056   \n",
            "duration_ms        -0.032743   -0.007101     1.000000     -0.073426  0.058523   \n",
            "danceability        0.003444    0.035448    -0.073426      1.000000  0.134325   \n",
            "energy             -0.055994    0.001056     0.058523      0.134325  1.000000   \n",
            "loudness           -0.027307    0.050423    -0.003470      0.259077  0.761690   \n",
            "speechiness        -0.084952   -0.044927    -0.062600      0.108626  0.142509   \n",
            "acousticness        0.076840   -0.025472    -0.103788     -0.171533 -0.733906   \n",
            "instrumentalness   -0.070286   -0.095139     0.124371     -0.185606 -0.181879   \n",
            "liveness            0.033639   -0.005387     0.010321     -0.131617  0.184796   \n",
            "valence             0.053111   -0.040534    -0.154479      0.477341  0.258934   \n",
            "tempo              -0.025824    0.013205     0.024346     -0.050450  0.247851   \n",
            "time_signature     -0.021115    0.031073     0.018225      0.207218  0.187126   \n",
            "\n",
            "                  loudness  speechiness  acousticness  instrumentalness  \\\n",
            "Unnamed: 0       -0.027307    -0.084952      0.076840         -0.070286   \n",
            "popularity        0.050423    -0.044927     -0.025472         -0.095139   \n",
            "duration_ms      -0.003470    -0.062600     -0.103788          0.124371   \n",
            "danceability      0.259077     0.108626     -0.171533         -0.185606   \n",
            "energy            0.761690     0.142509     -0.733906         -0.181879   \n",
            "loudness          1.000000     0.060826     -0.589803         -0.433477   \n",
            "speechiness       0.060826     1.000000     -0.002186         -0.089616   \n",
            "acousticness     -0.589803    -0.002186      1.000000          0.104027   \n",
            "instrumentalness -0.433477    -0.089616      0.104027          1.000000   \n",
            "liveness          0.076899     0.205219     -0.020700         -0.079893   \n",
            "valence           0.279848     0.036635     -0.107070         -0.324312   \n",
            "tempo             0.212446     0.017273     -0.208224         -0.050330   \n",
            "time_signature    0.191992    -0.000011     -0.176138         -0.082580   \n",
            "\n",
            "                  liveness   valence     tempo  time_signature  \n",
            "Unnamed: 0        0.033639  0.053111 -0.025824       -0.021115  \n",
            "popularity       -0.005387 -0.040534  0.013205        0.031073  \n",
            "duration_ms       0.010321 -0.154479  0.024346        0.018225  \n",
            "danceability     -0.131617  0.477341 -0.050450        0.207218  \n",
            "energy            0.184796  0.258934  0.247851        0.187126  \n",
            "loudness          0.076899  0.279848  0.212446        0.191992  \n",
            "speechiness       0.205219  0.036635  0.017273       -0.000011  \n",
            "acousticness     -0.020700 -0.107070 -0.208224       -0.176138  \n",
            "instrumentalness -0.079893 -0.324312 -0.050330       -0.082580  \n",
            "liveness          1.000000  0.019086  0.000600       -0.023651  \n",
            "valence           0.019086  1.000000  0.078273        0.133686  \n",
            "tempo             0.000600  0.078273  1.000000        0.066641  \n",
            "time_signature   -0.023651  0.133686  0.066641        1.000000  \n"
          ]
        },
        {
          "output_type": "execute_result",
          "data": {
            "text/plain": [
              "<Axes: >"
            ]
          },
          "metadata": {},
          "execution_count": 7
        },
        {
          "output_type": "display_data",
          "data": {
            "text/plain": [
              "<Figure size 640x480 with 2 Axes>"
            ],
            "image/png": "[encoded data removed]"
          },
          "metadata": {}
        }
      ],
      "source": [
        "#Correlation Matrix for Macro View of Data Set\n",
        "\n",
        "dfheatmaps = df_sample1.copy()\n",
        "\n",
        "numerical_features = dfheatmaps.select_dtypes(include=np.number).columns\n",
        "corr = dfheatmaps[numerical_features].corr()\n",
        "\n",
        "print(corr)\n",
        "\n",
        "sns.heatmap(corr, xticklabels=corr.columns, yticklabels=corr.columns)"
      ]
    },
    {
      "cell_type": "code",
      "execution_count": null,
      "metadata": {
        "id": "qORJugo1RLYj",
        "colab": {
          "base_uri": "https://localhost:8080/"
        },
        "outputId": "4f7bbfd3-bb46-4a50-ee66-e5793e3aeb04"
      },
      "outputs": [
        {
          "output_type": "stream",
          "name": "stdout",
          "text": [
            "   Unnamed: 0                               artists  duration_ms explicit  \\\n",
            "0           0                           Gen Hoshino     0.024575    False   \n",
            "1           1                          Ben Woodward    -0.730856    False   \n",
            "2           2                Ingrid Michaelson;ZAYN    -0.160331    False   \n",
            "3           3                          Kina Grannis    -0.243213    False   \n",
            "4           4                      Chord Overstreet    -0.271918    False   \n",
            "5           5                          Tyrone Wells    -0.128513    False   \n",
            "6           6  A Great Big World;Christina Aguilera     0.012776    False   \n",
            "7           7                            Jason Mraz     0.139023    False   \n",
            "8           8             Jason Mraz;Colbie Caillat    -0.358033    False   \n",
            "9           9                        Ross Copperman    -0.209093    False   \n",
            "\n",
            "   danceability    energy  loudness  speechiness  acousticness  \\\n",
            "0      0.629241 -0.717145  0.300827     0.551845     -0.850198   \n",
            "1     -0.845904 -1.889971 -1.784736    -0.078993      1.831724   \n",
            "2     -0.742183 -1.122665 -0.293287    -0.273825     -0.315497   \n",
            "3     -1.733297 -2.312984 -2.039243    -0.457307      1.774585   \n",
            "4      0.295029 -0.788707 -0.282749    -0.303144      0.463397   \n",
            "5      0.698389 -0.637631 -0.108969     0.192447     -0.077920   \n",
            "6     -0.920814 -1.965509 -0.111951    -0.464873      1.630234   \n",
            "7      0.784823 -0.784731 -0.213157    -0.406234      0.734055   \n",
            "8      0.335365 -0.904002 -0.087693    -0.451632     -0.062883   \n",
            "9     -0.719134 -0.037303  0.296055    -0.521620      0.334082   \n",
            "\n",
            "   instrumentalness  liveness   valence     tempo  time_signature track_genre  \\\n",
            "0         -0.504106  0.758740  0.929302 -1.141858        0.221822    acoustic   \n",
            "1         -0.504092 -0.591208 -0.798686 -1.489711        0.221822    acoustic   \n",
            "2         -0.504110 -0.507165 -1.365682 -1.528305        0.221822    acoustic   \n",
            "3         -0.503881 -0.428374 -1.276969  1.987850       -2.089671    acoustic   \n",
            "4         -0.504110 -0.686282 -1.184398 -0.073348        0.221822    acoustic   \n",
            "5         -0.504110 -0.128969  0.740303 -0.804946        0.221822    acoustic   \n",
            "6         -0.504100 -0.642159 -1.533467  0.638336       -2.089671    acoustic   \n",
            "7         -0.504110 -0.610643  0.917730  0.961104        0.221822    acoustic   \n",
            "8         -0.504110 -0.328572  0.751874  0.264865        0.221822    acoustic   \n",
            "9         -0.490574 -0.735658 -1.072541 -1.442676        0.221822    acoustic   \n",
            "\n",
            "   popularity_binary  \n",
            "0                  1  \n",
            "1                  0  \n",
            "2                  0  \n",
            "3                  1  \n",
            "4                  1  \n",
            "5                  0  \n",
            "6                  1  \n",
            "7                  1  \n",
            "8                  1  \n",
            "9                  0  \n",
            "  track_genre  track_genre_encoded                 artists  artists_encoded\n",
            "0    acoustic                    0             Gen Hoshino            10357\n",
            "1    acoustic                    0            Ben Woodward             3287\n",
            "2    acoustic                    0  Ingrid Michaelson;ZAYN            12397\n",
            "3    acoustic                    0            Kina Grannis            14839\n",
            "4    acoustic                    0        Chord Overstreet             5255\n"
          ]
        }
      ],
      "source": [
        "#Variable Transformation\n",
        "from sklearn.preprocessing import LabelEncoder\n",
        "\n",
        "df_sample2 = df_sample1.copy()\n",
        "df_sample2[nvar_list] = (df_sample1[nvar_list] - df_sample1[nvar_list].mean()) / df_sample1[nvar_list].std()\n",
        "\n",
        "df_sample3 = df_sample2.copy()\n",
        "df_sample3[cvar_list] = df_sample2[cvar_list].astype('category')\n",
        "df_sample3[nvar_list] = df_sample2[nvar_list].astype('float64')\n",
        "\n",
        "df_sample4 = df_sample3.copy()\n",
        "\n",
        "percentile_90 = df_sample4['popularity'].quantile(0.90)\n",
        "df_sample4['popularity_binary'] = (df_sample4['popularity'] >= percentile_90).astype(int)\n",
        "drop_list = ['popularity']\n",
        "df_sample4 = df_sample4.drop(columns=drop_list)\n",
        "\n",
        "print(df_sample4.head(10))\n",
        "\n",
        "\n",
        "# Label encoding for artists\n",
        "artist_label_encoder = LabelEncoder()\n",
        "df_sample4['artists_encoded'] = artist_label_encoder.fit_transform(df_sample4['artists'])\n",
        "\n",
        "# Label encoding for track genre\n",
        "genre_label_encoder = LabelEncoder()\n",
        "df_sample4['track_genre_encoded'] = genre_label_encoder.fit_transform(df_sample4['track_genre'])\n",
        "\n",
        "# Display encoded track genres and artists\n",
        "print(df_sample4[['track_genre', 'track_genre_encoded', 'artists', 'artists_encoded']].head())\n",
        "\n"
      ]
    },
    {
      "cell_type": "code",
      "source": [
        "# Drop redundant Columns and Verify Clean Data\n",
        "\n",
        "df_sample5 = df_sample4.copy()\n",
        "\n",
        "df_sample5.drop(columns=['artists','track_genre','Unnamed: 0'], inplace=True)\n",
        "\n",
        "print(df_sample5.head(10))\n",
        "print(df_sample5.dtypes)\n",
        "print(df_sample5.shape)"
      ],
      "metadata": {
        "id": "Jt69pmHvGZow",
        "colab": {
          "base_uri": "https://localhost:8080/"
        },
        "outputId": "edc53c37-126d-4c98-9e9e-caa3c62cd3bb"
      },
      "execution_count": null,
      "outputs": [
        {
          "output_type": "stream",
          "name": "stdout",
          "text": [
            "   duration_ms explicit  danceability    energy  loudness  speechiness  \\\n",
            "0     0.024575    False      0.629241 -0.717145  0.300827     0.551845   \n",
            "1    -0.730856    False     -0.845904 -1.889971 -1.784736    -0.078993   \n",
            "2    -0.160331    False     -0.742183 -1.122665 -0.293287    -0.273825   \n",
            "3    -0.243213    False     -1.733297 -2.312984 -2.039243    -0.457307   \n",
            "4    -0.271918    False      0.295029 -0.788707 -0.282749    -0.303144   \n",
            "5    -0.128513    False      0.698389 -0.637631 -0.108969     0.192447   \n",
            "6     0.012776    False     -0.920814 -1.965509 -0.111951    -0.464873   \n",
            "7     0.139023    False      0.784823 -0.784731 -0.213157    -0.406234   \n",
            "8    -0.358033    False      0.335365 -0.904002 -0.087693    -0.451632   \n",
            "9    -0.209093    False     -0.719134 -0.037303  0.296055    -0.521620   \n",
            "\n",
            "   acousticness  instrumentalness  liveness   valence     tempo  \\\n",
            "0     -0.850198         -0.504106  0.758740  0.929302 -1.141858   \n",
            "1      1.831724         -0.504092 -0.591208 -0.798686 -1.489711   \n",
            "2     -0.315497         -0.504110 -0.507165 -1.365682 -1.528305   \n",
            "3      1.774585         -0.503881 -0.428374 -1.276969  1.987850   \n",
            "4      0.463397         -0.504110 -0.686282 -1.184398 -0.073348   \n",
            "5     -0.077920         -0.504110 -0.128969  0.740303 -0.804946   \n",
            "6      1.630234         -0.504100 -0.642159 -1.533467  0.638336   \n",
            "7      0.734055         -0.504110 -0.610643  0.917730  0.961104   \n",
            "8     -0.062883         -0.504110 -0.328572  0.751874  0.264865   \n",
            "9      0.334082         -0.490574 -0.735658 -1.072541 -1.442676   \n",
            "\n",
            "   time_signature  popularity_binary  artists_encoded  track_genre_encoded  \n",
            "0        0.221822                  1            10357                    0  \n",
            "1        0.221822                  0             3287                    0  \n",
            "2        0.221822                  0            12397                    0  \n",
            "3       -2.089671                  1            14839                    0  \n",
            "4        0.221822                  1             5255                    0  \n",
            "5        0.221822                  0            28649                    0  \n",
            "6       -2.089671                  1              204                    0  \n",
            "7        0.221822                  1            12981                    0  \n",
            "8        0.221822                  1            12982                    0  \n",
            "9        0.221822                  0            23455                    0  \n",
            "duration_ms             float64\n",
            "explicit               category\n",
            "danceability            float64\n",
            "energy                  float64\n",
            "loudness                float64\n",
            "speechiness             float64\n",
            "acousticness            float64\n",
            "instrumentalness        float64\n",
            "liveness                float64\n",
            "valence                 float64\n",
            "tempo                   float64\n",
            "time_signature          float64\n",
            "popularity_binary         int64\n",
            "artists_encoded           int64\n",
            "track_genre_encoded       int64\n",
            "dtype: object\n",
            "(114000, 15)\n"
          ]
        }
      ]
    },
    {
      "cell_type": "code",
      "execution_count": null,
      "metadata": {
        "id": "j8_k0dDiXSQv"
      },
      "outputs": [],
      "source": [
        "#Optional Download of Database\n",
        "#from google.colab import files\n",
        "#df_sample5.to_csv('df_sample5.csv', encoding = 'utf-8-sig')\n",
        "#files.download('df_sample5.csv')"
      ]
    },
    {
      "cell_type": "code",
      "execution_count": null,
      "metadata": {
        "id": "6Z1GOAwWuAu4",
        "colab": {
          "base_uri": "https://localhost:8080/"
        },
        "outputId": "34f14612-5528-4d0b-f4a2-b9793320c874"
      },
      "outputs": [
        {
          "output_type": "stream",
          "name": "stdout",
          "text": [
            "        duration_ms explicit  danceability    energy  loudness  speechiness  \\\n",
            "104483     0.066831    False     -0.868953 -1.126640 -0.054886    -0.363674   \n",
            "17411     -0.382377    False      0.646528  1.234916  1.089997    -0.236939   \n",
            "73414      0.902236    False      1.136323 -1.456622 -0.703083    -0.427987   \n",
            "95288      0.452049    False      1.130561  0.666393  0.656540    -0.367457   \n",
            "77403     -0.122921    False     -0.125618  0.169433  0.074753    -0.370294   \n",
            "...             ...      ...           ...       ...       ...          ...   \n",
            "50057      0.553943    False     -0.949625  0.022332  0.202007    -0.497975   \n",
            "98047     -0.622969    False     -1.110970 -2.311394 -2.055746    -0.154656   \n",
            "5192      -1.400544    False     -0.523216 -2.235061 -4.009682    -0.513108   \n",
            "77708     -0.287827    False      0.456373  0.765785 -0.165636    -0.392048   \n",
            "98539     -0.797306    False     -2.200042 -2.289925 -2.267901    -0.448795   \n",
            "\n",
            "        acousticness  instrumentalness  liveness   valence     tempo  \\\n",
            "104483      0.484448         -0.504110 -0.538681 -1.381111 -1.384501   \n",
            "17411      -0.946983          1.711976  1.583416 -1.153541  0.196315   \n",
            "73414      -0.213249          1.857346  0.370039 -0.142976 -0.238234   \n",
            "95288      -0.273395         -0.504110 -0.699939  0.829017 -1.185590   \n",
            "77403       1.007720         -0.504110  2.628707  1.257157  1.265925   \n",
            "...              ...               ...       ...       ...       ...   \n",
            "50057      -0.938583         -0.504052 -0.538681  0.130879  1.528616   \n",
            "98047       1.891871         -0.504110 -0.570197 -1.510324 -1.685753   \n",
            "5192        1.179137          2.280534  0.679949 -1.296254 -2.173274   \n",
            "77708       0.409265         -0.504110  3.332571  1.095158 -0.739999   \n",
            "98539       1.458818          2.622961 -0.585955 -1.679651 -1.165175   \n",
            "\n",
            "        time_signature  popularity_binary  artists_encoded  \\\n",
            "104483       -2.089671                  0             1951   \n",
            "17411         0.221822                  0            15651   \n",
            "73414         0.221822                  0             6121   \n",
            "95288         0.221822                  0            17177   \n",
            "77403         0.221822                  0            19218   \n",
            "...                ...                ...              ...   \n",
            "50057         0.221822                  0              550   \n",
            "98047         0.221822                  0             1603   \n",
            "5192          0.221822                  0            14485   \n",
            "77708         0.221822                  0             9013   \n",
            "98539        -2.089671                  0             1641   \n",
            "\n",
            "        track_genre_encoded  \n",
            "104483                  104  \n",
            "17411                    17  \n",
            "73414                    73  \n",
            "95288                    95  \n",
            "77403                    77  \n",
            "...                     ...  \n",
            "50057                    50  \n",
            "98047                    98  \n",
            "5192                      5  \n",
            "77708                    77  \n",
            "98539                    98  \n",
            "\n",
            "[91200 rows x 15 columns]\n"
          ]
        }
      ],
      "source": [
        "from sklearn.model_selection import train_test_split\n",
        "\n",
        "df4partition = df_sample5\n",
        "testpart_size = 0.2\n",
        "\n",
        "df_nontestData, df_testData = train_test_split(df4partition, test_size=testpart_size, random_state=1)\n",
        "\n",
        "print(df_nontestData)"
      ]
    },
    {
      "cell_type": "code",
      "source": [
        "from sklearn.linear_model import LogisticRegression\n",
        "import pandas as pd\n",
        "\n",
        "DV = 'popularity_binary'\n",
        "y = df_nontestData[DV].astype('int')\n",
        "X = df_nontestData.drop(columns=[DV])\n",
        "\n",
        "alpha = 10\n",
        "\n",
        "clf = LogisticRegression(C=1/alpha, penalty='l1', solver='liblinear', max_iter=5000, random_state=1).fit(X, y)\n",
        "\n",
        "def summary_coef(model_object):\n",
        "    n_predictors = X.shape[1]\n",
        "    model_coef = pd.DataFrame(model_object.coef_.reshape(1, n_predictors), columns=X.columns.values)\n",
        "    model_coef['Intercept'] = model_object.intercept_\n",
        "    return model_coef.transpose()\n",
        "\n",
        "print(summary_coef(clf))"
      ],
      "metadata": {
        "id": "RHz24fEuJarb",
        "colab": {
          "base_uri": "https://localhost:8080/"
        },
        "outputId": "93a94dbb-3a7c-4e4a-f334-b63ec522f376"
      },
      "execution_count": null,
      "outputs": [
        {
          "output_type": "stream",
          "name": "stdout",
          "text": [
            "                            0\n",
            "duration_ms         -0.087196\n",
            "explicit             0.479230\n",
            "danceability         0.126665\n",
            "energy              -0.276481\n",
            "loudness             0.226655\n",
            "speechiness         -0.180144\n",
            "acousticness        -0.281121\n",
            "instrumentalness    -0.474340\n",
            "liveness            -0.230887\n",
            "valence             -0.082740\n",
            "tempo               -0.066622\n",
            "time_signature       0.043874\n",
            "artists_encoded     -0.000003\n",
            "track_genre_encoded  0.000203\n",
            "Intercept           -2.374505\n"
          ]
        }
      ]
    },
    {
      "cell_type": "code",
      "execution_count": null,
      "metadata": {
        "id": "g1033aGMyfn_",
        "colab": {
          "base_uri": "https://localhost:8080/"
        },
        "outputId": "b376c75b-8c4b-4d6c-d471-6756f8d0918a"
      },
      "outputs": [
        {
          "output_type": "stream",
          "name": "stdout",
          "text": [
            "NaN count per column:\n",
            "duration_ms            0\n",
            "explicit               0\n",
            "danceability           0\n",
            "energy                 0\n",
            "loudness               0\n",
            "speechiness            0\n",
            "acousticness           0\n",
            "instrumentalness       0\n",
            "liveness               0\n",
            "valence                0\n",
            "tempo                  0\n",
            "time_signature         0\n",
            "popularity_binary      0\n",
            "artists_encoded        0\n",
            "track_genre_encoded    0\n",
            "dtype: int64\n",
            "\n",
            "Total NaN values in the DataFrame: 0\n"
          ]
        }
      ],
      "source": [
        "# Count NaN values per column\n",
        "nan_count_per_column = df_nontestData.isna().sum()\n",
        "\n",
        "# Count total NaN values in the entire DataFrame\n",
        "total_nan_count = df_nontestData.isna().sum().sum()\n",
        "\n",
        "print(\"NaN count per column:\")\n",
        "print(nan_count_per_column)\n",
        "print(f\"\\nTotal NaN values in the DataFrame: {total_nan_count}\")\n"
      ]
    },
    {
      "cell_type": "code",
      "source": [
        "#Backtesting Model\n",
        "\n",
        "from sklearn.metrics import roc_auc_score, accuracy_score, mean_absolute_error\n",
        "\n",
        "# Predict on the test data\n",
        "y_pred_proba = clf.predict_proba(df_testData.drop(columns=[DV]))[:, 1]\n",
        "y_pred = clf.predict(df_testData.drop(columns=[DV]))\n",
        "y_true = df_testData[DV]\n",
        "\n",
        "# Calculate AUC\n",
        "auc = roc_auc_score(y_true, y_pred_proba)\n",
        "print(f\"AUC: {auc}\")\n",
        "\n",
        "# Calculate ASE (Average Squared Error)\n",
        "ase = mean_absolute_error(y_true, y_pred)\n",
        "print(f\"ASE: {ase}\")\n",
        "\n",
        "# Calculate accuracy\n",
        "accuracy = accuracy_score(y_true, y_pred)\n",
        "print(f\"Accuracy: {accuracy}\")"
      ],
      "metadata": {
        "colab": {
          "base_uri": "https://localhost:8080/"
        },
        "id": "LaAxd1HlKl76",
        "outputId": "4b998132-ddd8-4262-d9d2-0e7f9ced86ca"
      },
      "execution_count": null,
      "outputs": [
        {
          "output_type": "stream",
          "name": "stdout",
          "text": [
            "AUC: 0.6700680130879643\n",
            "ASE: 0.10100877192982456\n",
            "Accuracy: 0.8989912280701754\n"
          ]
        }
      ]
    },
    {
      "cell_type": "code",
      "source": [
        "import numpy as np\n",
        "import pandas as pd\n",
        "from sklearn.model_selection import KFold\n",
        "from sklearn.linear_model import RidgeClassifier\n",
        "from sklearn.metrics import roc_auc_score, accuracy_score, mean_squared_error\n",
        "\n",
        "# Define the function to perform k-fold cross-validation and evaluate metrics\n",
        "def evaluate_model_with_kfolds(df_testData, k_folds=5, min_alpha=0.001, max_alpha=1000):\n",
        "    # Splitting data into features (X) and target (y)\n",
        "    X = df_testData.drop(columns=[\"popularity_binary\"])  # Replace \"target\" with your target column name\n",
        "    y = df_testData[\"popularity_binary\"]  # Replace \"target\" with your target column name\n",
        "\n",
        "    # Define range of alphas\n",
        "    alphas = np.logspace(np.log10(min_alpha), np.log10(max_alpha), num=50)\n",
        "    results = []\n",
        "\n",
        "    # Perform k-fold cross-validation\n",
        "    kf = KFold(n_splits=k_folds, shuffle=True, random_state=42)\n",
        "\n",
        "    for alpha in alphas:\n",
        "        auc_scores = []\n",
        "        ase_scores = []\n",
        "        accuracies = []\n",
        "\n",
        "        for train_index, test_index in kf.split(X):\n",
        "            X_train, X_test = X.iloc[train_index], X.iloc[test_index]\n",
        "            y_train, y_test = y.iloc[train_index], y.iloc[test_index]\n",
        "\n",
        "            # Initialize the Ridge Classifier with the current alpha\n",
        "            model = RidgeClassifier(alpha=alpha)\n",
        "            model.fit(X_train, y_train)\n",
        "            y_pred = model.predict(X_test)\n",
        "            y_pred_prob = model.decision_function(X_test)\n",
        "\n",
        "            # Compute metrics\n",
        "            auc = roc_auc_score(y_test, y_pred_prob)\n",
        "            ase = mean_squared_error(y_test, y_pred)\n",
        "            accuracy = accuracy_score(y_test, y_pred)\n",
        "\n",
        "            # Append scores for this fold\n",
        "            auc_scores.append(auc)\n",
        "            ase_scores.append(ase)\n",
        "            accuracies.append(accuracy)\n",
        "\n",
        "        # Average metrics over k-folds\n",
        "        results.append({\n",
        "            \"alpha\": alpha,\n",
        "            \"AUC\": np.mean(auc_scores),\n",
        "            \"ASE\": np.mean(ase_scores),\n",
        "            \"Accuracy\": np.mean(accuracies)\n",
        "        })\n",
        "\n",
        "    # Convert results to a DataFrame for better visualization\n",
        "    results_df = pd.DataFrame(results)\n",
        "    return results_df\n",
        "\n",
        "results_df = evaluate_model_with_kfolds(df_testData=df_testData)\n",
        "\n",
        "# Find the best alpha based on the highest AUC\n",
        "best_result = results_df.loc[results_df[\"AUC\"].idxmax()]\n",
        "best_alpha = best_result[\"alpha\"]\n",
        "\n",
        "# Print the best alpha and its associated metrics\n",
        "print(f\"Best Alpha: {best_alpha}\")\n",
        "print(f\"Metrics at Best Alpha:\")\n",
        "print(f\"AUC: {best_result['AUC']}\")\n",
        "print(f\"ASE: {best_result['ASE']}\")\n",
        "print(f\"Accuracy: {best_result['Accuracy']}\")\n",
        "\n"
      ],
      "metadata": {
        "colab": {
          "base_uri": "https://localhost:8080/"
        },
        "id": "arzKdZGNSL4f",
        "outputId": "327b124e-f82e-4991-92f0-5892fe5677d0"
      },
      "execution_count": null,
      "outputs": [
        {
          "output_type": "stream",
          "name": "stdout",
          "text": [
            "Best Alpha: 568.9866029018293\n",
            "Metrics at Best Alpha:\n",
            "AUC: 0.6672889275663261\n",
            "ASE: 0.10100877192982456\n",
            "Accuracy: 0.8989912280701754\n"
          ]
        }
      ]
    }
  ],
  "metadata": {
    "colab": {
      "gpuType": "T4",
      "provenance": [],
      "include_colab_link": true
    },
    "kernelspec": {
      "display_name": "Python 3",
      "name": "python3"
    },
    "language_info": {
      "name": "python"
    },
    "accelerator": "GPU"
  },
  "nbformat": 4,
  "nbformat_minor": 0
}