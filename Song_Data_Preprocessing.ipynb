{
  "nbformat": 4,
  "nbformat_minor": 0,
  "metadata": {
    "colab": {
      "provenance": [],
      "gpuType": "T4",
      "include_colab_link": true
    },
    "kernelspec": {
      "name": "python3",
      "display_name": "Python 3"
    },
    "language_info": {
      "name": "python"
    }
  },
  "cells": [
    {
      "cell_type": "markdown",
      "metadata": {
        "id": "view-in-github",
        "colab_type": "text"
      },
      "source": [
        "<a href=\"https://colab.research.google.com/github/dramfin/Spotify-Song-Popularity-Prediction-ML/blob/main/Song_Data_Preprocessing.ipynb\" target=\"_parent\"><img src=\"https://colab.research.google.com/assets/colab-badge.svg\" alt=\"Open In Colab\"/></a>"
      ]
    },
    {
      "cell_type": "markdown",
      "source": [],
      "metadata": {
        "id": "EsG-vpl1tYvU"
      }
    },
    {
      "cell_type": "markdown",
      "source": [
        "url for data set : https://www.kaggle.com/datasets/maharshipandya/-spotify-tracks-dataset"
      ],
      "metadata": {
        "id": "e4G3aKDIs_ky"
      }
    },
    {
      "cell_type": "code",
      "execution_count": null,
      "metadata": {
        "colab": {
          "base_uri": "https://localhost:8080/",
          "height": 341
        },
        "collapsed": true,
        "id": "sOIhmRyoIpXJ",
        "outputId": "3060fca8-a0bf-4786-f176-9d46e4a62511"
      },
      "outputs": [
        {
          "output_type": "display_data",
          "data": {
            "text/plain": [
              "<IPython.core.display.HTML object>"
            ],
            "text/html": [
              "\n",
              "     <input type=\"file\" id=\"files-f4abebc2-7549-4948-b3ca-5309171eb48e\" name=\"files[]\" multiple disabled\n",
              "        style=\"border:none\" />\n",
              "     <output id=\"result-f4abebc2-7549-4948-b3ca-5309171eb48e\">\n",
              "      Upload widget is only available when the cell has been executed in the\n",
              "      current browser session. Please rerun this cell to enable.\n",
              "      </output>\n",
              "      <script>// Copyright 2017 Google LLC\n",
              "//\n",
              "// Licensed under the Apache License, Version 2.0 (the \"License\");\n",
              "// you may not use this file except in compliance with the License.\n",
              "// You may obtain a copy of the License at\n",
              "//\n",
              "//      http://www.apache.org/licenses/LICENSE-2.0\n",
              "//\n",
              "// Unless required by applicable law or agreed to in writing, software\n",
              "// distributed under the License is distributed on an \"AS IS\" BASIS,\n",
              "// WITHOUT WARRANTIES OR CONDITIONS OF ANY KIND, either express or implied.\n",
              "// See the License for the specific language governing permissions and\n",
              "// limitations under the License.\n",
              "\n",
              "/**\n",
              " * @fileoverview Helpers for google.colab Python module.\n",
              " */\n",
              "(function(scope) {\n",
              "function span(text, styleAttributes = {}) {\n",
              "  const element = document.createElement('span');\n",
              "  element.textContent = text;\n",
              "  for (const key of Object.keys(styleAttributes)) {\n",
              "    element.style[key] = styleAttributes[key];\n",
              "  }\n",
              "  return element;\n",
              "}\n",
              "\n",
              "// Max number of bytes which will be uploaded at a time.\n",
              "const MAX_PAYLOAD_SIZE = 100 * 1024;\n",
              "\n",
              "function _uploadFiles(inputId, outputId) {\n",
              "  const steps = uploadFilesStep(inputId, outputId);\n",
              "  const outputElement = document.getElementById(outputId);\n",
              "  // Cache steps on the outputElement to make it available for the next call\n",
              "  // to uploadFilesContinue from Python.\n",
              "  outputElement.steps = steps;\n",
              "\n",
              "  return _uploadFilesContinue(outputId);\n",
              "}\n",
              "\n",
              "// This is roughly an async generator (not supported in the browser yet),\n",
              "// where there are multiple asynchronous steps and the Python side is going\n",
              "// to poll for completion of each step.\n",
              "// This uses a Promise to block the python side on completion of each step,\n",
              "// then passes the result of the previous step as the input to the next step.\n",
              "function _uploadFilesContinue(outputId) {\n",
              "  const outputElement = document.getElementById(outputId);\n",
              "  const steps = outputElement.steps;\n",
              "\n",
              "  const next = steps.next(outputElement.lastPromiseValue);\n",
              "  return Promise.resolve(next.value.promise).then((value) => {\n",
              "    // Cache the last promise value to make it available to the next\n",
              "    // step of the generator.\n",
              "    outputElement.lastPromiseValue = value;\n",
              "    return next.value.response;\n",
              "  });\n",
              "}\n",
              "\n",
              "/**\n",
              " * Generator function which is called between each async step of the upload\n",
              " * process.\n",
              " * @param {string} inputId Element ID of the input file picker element.\n",
              " * @param {string} outputId Element ID of the output display.\n",
              " * @return {!Iterable<!Object>} Iterable of next steps.\n",
              " */\n",
              "function* uploadFilesStep(inputId, outputId) {\n",
              "  const inputElement = document.getElementById(inputId);\n",
              "  inputElement.disabled = false;\n",
              "\n",
              "  const outputElement = document.getElementById(outputId);\n",
              "  outputElement.innerHTML = '';\n",
              "\n",
              "  const pickedPromise = new Promise((resolve) => {\n",
              "    inputElement.addEventListener('change', (e) => {\n",
              "      resolve(e.target.files);\n",
              "    });\n",
              "  });\n",
              "\n",
              "  const cancel = document.createElement('button');\n",
              "  inputElement.parentElement.appendChild(cancel);\n",
              "  cancel.textContent = 'Cancel upload';\n",
              "  const cancelPromise = new Promise((resolve) => {\n",
              "    cancel.onclick = () => {\n",
              "      resolve(null);\n",
              "    };\n",
              "  });\n",
              "\n",
              "  // Wait for the user to pick the files.\n",
              "  const files = yield {\n",
              "    promise: Promise.race([pickedPromise, cancelPromise]),\n",
              "    response: {\n",
              "      action: 'starting',\n",
              "    }\n",
              "  };\n",
              "\n",
              "  cancel.remove();\n",
              "\n",
              "  // Disable the input element since further picks are not allowed.\n",
              "  inputElement.disabled = true;\n",
              "\n",
              "  if (!files) {\n",
              "    return {\n",
              "      response: {\n",
              "        action: 'complete',\n",
              "      }\n",
              "    };\n",
              "  }\n",
              "\n",
              "  for (const file of files) {\n",
              "    const li = document.createElement('li');\n",
              "    li.append(span(file.name, {fontWeight: 'bold'}));\n",
              "    li.append(span(\n",
              "        `(${file.type || 'n/a'}) - ${file.size} bytes, ` +\n",
              "        `last modified: ${\n",
              "            file.lastModifiedDate ? file.lastModifiedDate.toLocaleDateString() :\n",
              "                                    'n/a'} - `));\n",
              "    const percent = span('0% done');\n",
              "    li.appendChild(percent);\n",
              "\n",
              "    outputElement.appendChild(li);\n",
              "\n",
              "    const fileDataPromise = new Promise((resolve) => {\n",
              "      const reader = new FileReader();\n",
              "      reader.onload = (e) => {\n",
              "        resolve(e.target.result);\n",
              "      };\n",
              "      reader.readAsArrayBuffer(file);\n",
              "    });\n",
              "    // Wait for the data to be ready.\n",
              "    let fileData = yield {\n",
              "      promise: fileDataPromise,\n",
              "      response: {\n",
              "        action: 'continue',\n",
              "      }\n",
              "    };\n",
              "\n",
              "    // Use a chunked sending to avoid message size limits. See b/62115660.\n",
              "    let position = 0;\n",
              "    do {\n",
              "      const length = Math.min(fileData.byteLength - position, MAX_PAYLOAD_SIZE);\n",
              "      const chunk = new Uint8Array(fileData, position, length);\n",
              "      position += length;\n",
              "\n",
              "      const base64 = btoa(String.fromCharCode.apply(null, chunk));\n",
              "      yield {\n",
              "        response: {\n",
              "          action: 'append',\n",
              "          file: file.name,\n",
              "          data: base64,\n",
              "        },\n",
              "      };\n",
              "\n",
              "      let percentDone = fileData.byteLength === 0 ?\n",
              "          100 :\n",
              "          Math.round((position / fileData.byteLength) * 100);\n",
              "      percent.textContent = `${percentDone}% done`;\n",
              "\n",
              "    } while (position < fileData.byteLength);\n",
              "  }\n",
              "\n",
              "  // All done.\n",
              "  yield {\n",
              "    response: {\n",
              "      action: 'complete',\n",
              "    }\n",
              "  };\n",
              "}\n",
              "\n",
              "scope.google = scope.google || {};\n",
              "scope.google.colab = scope.google.colab || {};\n",
              "scope.google.colab._files = {\n",
              "  _uploadFiles,\n",
              "  _uploadFilesContinue,\n",
              "};\n",
              "})(self);\n",
              "</script> "
            ]
          },
          "metadata": {}
        },
        {
          "output_type": "error",
          "ename": "MessageError",
          "evalue": "RangeError: Maximum call stack size exceeded.",
          "traceback": [
            "\u001b[0;31m---------------------------------------------------------------------------\u001b[0m",
            "\u001b[0;31mMessageError\u001b[0m                              Traceback (most recent call last)",
            "\u001b[0;32m<ipython-input-1-21dc3c638f66>\u001b[0m in \u001b[0;36m<cell line: 2>\u001b[0;34m()\u001b[0m\n\u001b[1;32m      1\u001b[0m \u001b[0;32mfrom\u001b[0m \u001b[0mgoogle\u001b[0m\u001b[0;34m.\u001b[0m\u001b[0mcolab\u001b[0m \u001b[0;32mimport\u001b[0m \u001b[0mfiles\u001b[0m\u001b[0;34m\u001b[0m\u001b[0;34m\u001b[0m\u001b[0m\n\u001b[0;32m----> 2\u001b[0;31m \u001b[0muploaded\u001b[0m \u001b[0;34m=\u001b[0m \u001b[0mfiles\u001b[0m\u001b[0;34m.\u001b[0m\u001b[0mupload\u001b[0m\u001b[0;34m(\u001b[0m\u001b[0;34m)\u001b[0m\u001b[0;34m\u001b[0m\u001b[0;34m\u001b[0m\u001b[0m\n\u001b[0m",
            "\u001b[0;32m/usr/local/lib/python3.10/dist-packages/google/colab/files.py\u001b[0m in \u001b[0;36mupload\u001b[0;34m(target_dir)\u001b[0m\n\u001b[1;32m     70\u001b[0m   \"\"\"\n\u001b[1;32m     71\u001b[0m \u001b[0;34m\u001b[0m\u001b[0m\n\u001b[0;32m---> 72\u001b[0;31m   \u001b[0muploaded_files\u001b[0m \u001b[0;34m=\u001b[0m \u001b[0m_upload_files\u001b[0m\u001b[0;34m(\u001b[0m\u001b[0mmultiple\u001b[0m\u001b[0;34m=\u001b[0m\u001b[0;32mTrue\u001b[0m\u001b[0;34m)\u001b[0m\u001b[0;34m\u001b[0m\u001b[0;34m\u001b[0m\u001b[0m\n\u001b[0m\u001b[1;32m     73\u001b[0m   \u001b[0;31m# Mapping from original filename to filename as saved locally.\u001b[0m\u001b[0;34m\u001b[0m\u001b[0;34m\u001b[0m\u001b[0m\n\u001b[1;32m     74\u001b[0m   \u001b[0mlocal_filenames\u001b[0m \u001b[0;34m=\u001b[0m \u001b[0mdict\u001b[0m\u001b[0;34m(\u001b[0m\u001b[0;34m)\u001b[0m\u001b[0;34m\u001b[0m\u001b[0;34m\u001b[0m\u001b[0m\n",
            "\u001b[0;32m/usr/local/lib/python3.10/dist-packages/google/colab/files.py\u001b[0m in \u001b[0;36m_upload_files\u001b[0;34m(multiple)\u001b[0m\n\u001b[1;32m    170\u001b[0m \u001b[0;34m\u001b[0m\u001b[0m\n\u001b[1;32m    171\u001b[0m   \u001b[0;32mwhile\u001b[0m \u001b[0mresult\u001b[0m\u001b[0;34m[\u001b[0m\u001b[0;34m'action'\u001b[0m\u001b[0;34m]\u001b[0m \u001b[0;34m!=\u001b[0m \u001b[0;34m'complete'\u001b[0m\u001b[0;34m:\u001b[0m\u001b[0;34m\u001b[0m\u001b[0;34m\u001b[0m\u001b[0m\n\u001b[0;32m--> 172\u001b[0;31m     result = _output.eval_js(\n\u001b[0m\u001b[1;32m    173\u001b[0m         'google.colab._files._uploadFilesContinue(\"{output_id}\")'.format(\n\u001b[1;32m    174\u001b[0m             \u001b[0moutput_id\u001b[0m\u001b[0;34m=\u001b[0m\u001b[0moutput_id\u001b[0m\u001b[0;34m\u001b[0m\u001b[0;34m\u001b[0m\u001b[0m\n",
            "\u001b[0;32m/usr/local/lib/python3.10/dist-packages/google/colab/output/_js.py\u001b[0m in \u001b[0;36meval_js\u001b[0;34m(script, ignore_result, timeout_sec)\u001b[0m\n\u001b[1;32m     38\u001b[0m   \u001b[0;32mif\u001b[0m \u001b[0mignore_result\u001b[0m\u001b[0;34m:\u001b[0m\u001b[0;34m\u001b[0m\u001b[0;34m\u001b[0m\u001b[0m\n\u001b[1;32m     39\u001b[0m     \u001b[0;32mreturn\u001b[0m\u001b[0;34m\u001b[0m\u001b[0;34m\u001b[0m\u001b[0m\n\u001b[0;32m---> 40\u001b[0;31m   \u001b[0;32mreturn\u001b[0m \u001b[0m_message\u001b[0m\u001b[0;34m.\u001b[0m\u001b[0mread_reply_from_input\u001b[0m\u001b[0;34m(\u001b[0m\u001b[0mrequest_id\u001b[0m\u001b[0;34m,\u001b[0m \u001b[0mtimeout_sec\u001b[0m\u001b[0;34m)\u001b[0m\u001b[0;34m\u001b[0m\u001b[0;34m\u001b[0m\u001b[0m\n\u001b[0m\u001b[1;32m     41\u001b[0m \u001b[0;34m\u001b[0m\u001b[0m\n\u001b[1;32m     42\u001b[0m \u001b[0;34m\u001b[0m\u001b[0m\n",
            "\u001b[0;32m/usr/local/lib/python3.10/dist-packages/google/colab/_message.py\u001b[0m in \u001b[0;36mread_reply_from_input\u001b[0;34m(message_id, timeout_sec)\u001b[0m\n\u001b[1;32m    101\u001b[0m     ):\n\u001b[1;32m    102\u001b[0m       \u001b[0;32mif\u001b[0m \u001b[0;34m'error'\u001b[0m \u001b[0;32min\u001b[0m \u001b[0mreply\u001b[0m\u001b[0;34m:\u001b[0m\u001b[0;34m\u001b[0m\u001b[0;34m\u001b[0m\u001b[0m\n\u001b[0;32m--> 103\u001b[0;31m         \u001b[0;32mraise\u001b[0m \u001b[0mMessageError\u001b[0m\u001b[0;34m(\u001b[0m\u001b[0mreply\u001b[0m\u001b[0;34m[\u001b[0m\u001b[0;34m'error'\u001b[0m\u001b[0;34m]\u001b[0m\u001b[0;34m)\u001b[0m\u001b[0;34m\u001b[0m\u001b[0;34m\u001b[0m\u001b[0m\n\u001b[0m\u001b[1;32m    104\u001b[0m       \u001b[0;32mreturn\u001b[0m \u001b[0mreply\u001b[0m\u001b[0;34m.\u001b[0m\u001b[0mget\u001b[0m\u001b[0;34m(\u001b[0m\u001b[0;34m'data'\u001b[0m\u001b[0;34m,\u001b[0m \u001b[0;32mNone\u001b[0m\u001b[0;34m)\u001b[0m\u001b[0;34m\u001b[0m\u001b[0;34m\u001b[0m\u001b[0m\n\u001b[1;32m    105\u001b[0m \u001b[0;34m\u001b[0m\u001b[0m\n",
            "\u001b[0;31mMessageError\u001b[0m: RangeError: Maximum call stack size exceeded."
          ]
        }
      ],
      "source": [
        "from google.colab import files\n",
        "uploaded = files.upload()"
      ]
    },
    {
      "cell_type": "code",
      "source": [
        "import pandas as pd\n",
        "import numpy as np\n",
        "import seaborn as sns\n",
        "import matplotlib.pyplot as plt"
      ],
      "metadata": {
        "id": "CTbDbDz4JnbG"
      },
      "execution_count": null,
      "outputs": []
    },
    {
      "cell_type": "code",
      "source": [
        "#Import CSV\n",
        "\n",
        "df = pd.read_csv('dataset.csv')\n",
        "\n",
        "print(df.head(10))\n",
        "\n",
        "print(df.columns.values)\n",
        "\n",
        "print(df.shape)"
      ],
      "metadata": {
        "id": "S4gTrxcMJqQG",
        "collapsed": true,
        "colab": {
          "base_uri": "https://localhost:8080/"
        },
        "outputId": "fea6f869-3b4d-4ebf-9105-d3e74910b8d8"
      },
      "execution_count": null,
      "outputs": [
        {
          "output_type": "stream",
          "name": "stdout",
          "text": [
            "   Unnamed: 0                track_id                               artists  \\\n",
            "0           0  5SuOikwiRyPMVoIQDJUgSV                           Gen Hoshino   \n",
            "1           1  4qPNDBW1i3p13qLCt0Ki3A                          Ben Woodward   \n",
            "2           2  1iJBSr7s7jYXzM8EGcbK5b                Ingrid Michaelson;ZAYN   \n",
            "3           3  6lfxq3CG4xtTiEg7opyCyx                          Kina Grannis   \n",
            "4           4  5vjLSffimiIP26QG5WcN2K                      Chord Overstreet   \n",
            "5           5  01MVOl9KtVTNfFiBU9I7dc                          Tyrone Wells   \n",
            "6           6  6Vc5wAMmXdKIAM7WUoEb7N  A Great Big World;Christina Aguilera   \n",
            "7           7  1EzrEOXmMH3G43AXT1y7pA                            Jason Mraz   \n",
            "8           8  0IktbUcnAGrvD03AWnz3Q8             Jason Mraz;Colbie Caillat   \n",
            "9           9  7k9GuJYLp2AzqokyEdwEw2                        Ross Copperman   \n",
            "\n",
            "                                          album_name  \\\n",
            "0                                             Comedy   \n",
            "1                                   Ghost (Acoustic)   \n",
            "2                                     To Begin Again   \n",
            "3  Crazy Rich Asians (Original Motion Picture Sou...   \n",
            "4                                            Hold On   \n",
            "5                               Days I Will Remember   \n",
            "6                        Is There Anybody Out There?   \n",
            "7                We Sing. We Dance. We Steal Things.   \n",
            "8                We Sing. We Dance. We Steal Things.   \n",
            "9                                             Hunger   \n",
            "\n",
            "                   track_name  popularity  duration_ms  explicit  \\\n",
            "0                      Comedy          73       230666     False   \n",
            "1            Ghost - Acoustic          55       149610     False   \n",
            "2              To Begin Again          57       210826     False   \n",
            "3  Can't Help Falling In Love          71       201933     False   \n",
            "4                     Hold On          82       198853     False   \n",
            "5        Days I Will Remember          58       214240     False   \n",
            "6               Say Something          74       229400     False   \n",
            "7                   I'm Yours          80       242946     False   \n",
            "8                       Lucky          74       189613     False   \n",
            "9                      Hunger          56       205594     False   \n",
            "\n",
            "   danceability  energy  ...  loudness  mode  speechiness  acousticness  \\\n",
            "0         0.676  0.4610  ...    -6.746     0       0.1430        0.0322   \n",
            "1         0.420  0.1660  ...   -17.235     1       0.0763        0.9240   \n",
            "2         0.438  0.3590  ...    -9.734     1       0.0557        0.2100   \n",
            "3         0.266  0.0596  ...   -18.515     1       0.0363        0.9050   \n",
            "4         0.618  0.4430  ...    -9.681     1       0.0526        0.4690   \n",
            "5         0.688  0.4810  ...    -8.807     1       0.1050        0.2890   \n",
            "6         0.407  0.1470  ...    -8.822     1       0.0355        0.8570   \n",
            "7         0.703  0.4440  ...    -9.331     1       0.0417        0.5590   \n",
            "8         0.625  0.4140  ...    -8.700     1       0.0369        0.2940   \n",
            "9         0.442  0.6320  ...    -6.770     1       0.0295        0.4260   \n",
            "\n",
            "   instrumentalness  liveness  valence    tempo  time_signature  track_genre  \n",
            "0          0.000001    0.3580   0.7150   87.917               4     acoustic  \n",
            "1          0.000006    0.1010   0.2670   77.489               4     acoustic  \n",
            "2          0.000000    0.1170   0.1200   76.332               4     acoustic  \n",
            "3          0.000071    0.1320   0.1430  181.740               3     acoustic  \n",
            "4          0.000000    0.0829   0.1670  119.949               4     acoustic  \n",
            "5          0.000000    0.1890   0.6660   98.017               4     acoustic  \n",
            "6          0.000003    0.0913   0.0765  141.284               3     acoustic  \n",
            "7          0.000000    0.0973   0.7120  150.960               4     acoustic  \n",
            "8          0.000000    0.1510   0.6690  130.088               4     acoustic  \n",
            "9          0.004190    0.0735   0.1960   78.899               4     acoustic  \n",
            "\n",
            "[10 rows x 21 columns]\n",
            "['Unnamed: 0' 'track_id' 'artists' 'album_name' 'track_name' 'popularity'\n",
            " 'duration_ms' 'explicit' 'danceability' 'energy' 'key' 'loudness' 'mode'\n",
            " 'speechiness' 'acousticness' 'instrumentalness' 'liveness' 'valence'\n",
            " 'tempo' 'time_signature' 'track_genre']\n",
            "(114000, 21)\n"
          ]
        }
      ]
    },
    {
      "cell_type": "code",
      "source": [
        "#Missing Value Imputation\n",
        "\n",
        "df.isnull().sum()\n",
        "\n",
        "print(df.dropna())\n",
        "\n",
        "DV = 'popularity'\n",
        "\n",
        "df_sample1 = df.dropna(subset=[DV])\n",
        "\n",
        "rvar_list = ['Unnamed: 0', 'track_id','album_name','track_name','key','mode'] #Not needed\n",
        "\n",
        "df_sample1 = df.drop(columns=rvar_list)"
      ],
      "metadata": {
        "id": "qBBHoy9XKM6Y",
        "collapsed": true,
        "colab": {
          "base_uri": "https://localhost:8080/"
        },
        "outputId": "02536c3f-ef60-4a9c-f464-8df0853e02e5"
      },
      "execution_count": null,
      "outputs": [
        {
          "output_type": "stream",
          "name": "stdout",
          "text": [
            "        Unnamed: 0                track_id                 artists  \\\n",
            "0                0  5SuOikwiRyPMVoIQDJUgSV             Gen Hoshino   \n",
            "1                1  4qPNDBW1i3p13qLCt0Ki3A            Ben Woodward   \n",
            "2                2  1iJBSr7s7jYXzM8EGcbK5b  Ingrid Michaelson;ZAYN   \n",
            "3                3  6lfxq3CG4xtTiEg7opyCyx            Kina Grannis   \n",
            "4                4  5vjLSffimiIP26QG5WcN2K        Chord Overstreet   \n",
            "...            ...                     ...                     ...   \n",
            "113995      113995  2C3TZjDRiAzdyViavDJ217           Rainy Lullaby   \n",
            "113996      113996  1hIz5L4IB9hN3WRYPOCGPw           Rainy Lullaby   \n",
            "113997      113997  6x8ZfSoqDjuNa5SVP5QjvX           Cesária Evora   \n",
            "113998      113998  2e6sXL2bYv4bSz6VTdnfLs        Michael W. Smith   \n",
            "113999      113999  2hETkH7cOfqmz3LqZDHZf5           Cesária Evora   \n",
            "\n",
            "                                               album_name  \\\n",
            "0                                                  Comedy   \n",
            "1                                        Ghost (Acoustic)   \n",
            "2                                          To Begin Again   \n",
            "3       Crazy Rich Asians (Original Motion Picture Sou...   \n",
            "4                                                 Hold On   \n",
            "...                                                   ...   \n",
            "113995  #mindfulness - Soft Rain for Mindful Meditatio...   \n",
            "113996  #mindfulness - Soft Rain for Mindful Meditatio...   \n",
            "113997                                            Best Of   \n",
            "113998                                  Change Your World   \n",
            "113999                                     Miss Perfumado   \n",
            "\n",
            "                        track_name  popularity  duration_ms  explicit  \\\n",
            "0                           Comedy          73       230666     False   \n",
            "1                 Ghost - Acoustic          55       149610     False   \n",
            "2                   To Begin Again          57       210826     False   \n",
            "3       Can't Help Falling In Love          71       201933     False   \n",
            "4                          Hold On          82       198853     False   \n",
            "...                            ...         ...          ...       ...   \n",
            "113995         Sleep My Little Boy          21       384999     False   \n",
            "113996            Water Into Light          22       385000     False   \n",
            "113997              Miss Perfumado          22       271466     False   \n",
            "113998                     Friends          41       283893     False   \n",
            "113999                   Barbincor          22       241826     False   \n",
            "\n",
            "        danceability  energy  ...  loudness  mode  speechiness  acousticness  \\\n",
            "0              0.676  0.4610  ...    -6.746     0       0.1430        0.0322   \n",
            "1              0.420  0.1660  ...   -17.235     1       0.0763        0.9240   \n",
            "2              0.438  0.3590  ...    -9.734     1       0.0557        0.2100   \n",
            "3              0.266  0.0596  ...   -18.515     1       0.0363        0.9050   \n",
            "4              0.618  0.4430  ...    -9.681     1       0.0526        0.4690   \n",
            "...              ...     ...  ...       ...   ...          ...           ...   \n",
            "113995         0.172  0.2350  ...   -16.393     1       0.0422        0.6400   \n",
            "113996         0.174  0.1170  ...   -18.318     0       0.0401        0.9940   \n",
            "113997         0.629  0.3290  ...   -10.895     0       0.0420        0.8670   \n",
            "113998         0.587  0.5060  ...   -10.889     1       0.0297        0.3810   \n",
            "113999         0.526  0.4870  ...   -10.204     0       0.0725        0.6810   \n",
            "\n",
            "        instrumentalness  liveness  valence    tempo  time_signature  \\\n",
            "0               0.000001    0.3580   0.7150   87.917               4   \n",
            "1               0.000006    0.1010   0.2670   77.489               4   \n",
            "2               0.000000    0.1170   0.1200   76.332               4   \n",
            "3               0.000071    0.1320   0.1430  181.740               3   \n",
            "4               0.000000    0.0829   0.1670  119.949               4   \n",
            "...                  ...       ...      ...      ...             ...   \n",
            "113995          0.928000    0.0863   0.0339  125.995               5   \n",
            "113996          0.976000    0.1050   0.0350   85.239               4   \n",
            "113997          0.000000    0.0839   0.7430  132.378               4   \n",
            "113998          0.000000    0.2700   0.4130  135.960               4   \n",
            "113999          0.000000    0.0893   0.7080   79.198               4   \n",
            "\n",
            "        track_genre  \n",
            "0          acoustic  \n",
            "1          acoustic  \n",
            "2          acoustic  \n",
            "3          acoustic  \n",
            "4          acoustic  \n",
            "...             ...  \n",
            "113995  world-music  \n",
            "113996  world-music  \n",
            "113997  world-music  \n",
            "113998  world-music  \n",
            "113999  world-music  \n",
            "\n",
            "[113999 rows x 21 columns]\n"
          ]
        }
      ]
    },
    {
      "cell_type": "code",
      "source": [
        "#Verify Columns\n",
        "print(df_sample1.columns.values)"
      ],
      "metadata": {
        "collapsed": true,
        "id": "77M91crhNT2T",
        "colab": {
          "base_uri": "https://localhost:8080/"
        },
        "outputId": "119d085b-a8cd-4a75-cdea-ad0a2ca12906"
      },
      "execution_count": null,
      "outputs": [
        {
          "output_type": "stream",
          "name": "stdout",
          "text": [
            "['artists' 'popularity' 'duration_ms' 'explicit' 'danceability' 'energy'\n",
            " 'loudness' 'speechiness' 'acousticness' 'instrumentalness' 'liveness'\n",
            " 'valence' 'tempo' 'time_signature' 'track_genre']\n"
          ]
        }
      ]
    },
    {
      "cell_type": "code",
      "source": [
        "#Organize Variables Into Categories\n",
        "\n",
        "cvar_list = [\n",
        "    'artists'\n",
        "    ,'explicit'\n",
        "    ,'track_genre']\n",
        "nvar_list = [\n",
        "    'duration_ms'\n",
        "    ,'danceability'\n",
        "    ,'energy'\n",
        "    ,'loudness'\n",
        "    ,'speechiness'\n",
        "    ,'acousticness'\n",
        "    ,'instrumentalness'\n",
        "    ,'liveness'\n",
        "    ,'valence'\n",
        "    ,'tempo'\n",
        "    ,'time_signature']"
      ],
      "metadata": {
        "id": "5TMGf4KkN0rv"
      },
      "execution_count": null,
      "outputs": []
    },
    {
      "cell_type": "code",
      "source": [
        "dfheatmaps = df_sample1.copy()\n",
        "\n",
        "numerical_features = dfheatmaps.select_dtypes(include=np.number).columns\n",
        "corr = dfheatmaps[numerical_features].corr()\n",
        "\n",
        "print(corr)\n",
        "\n",
        "sns.heatmap(corr, xticklabels=corr.columns, yticklabels=corr.columns)"
      ],
      "metadata": {
        "colab": {
          "base_uri": "https://localhost:8080/",
          "height": 1000
        },
        "id": "ZecS18xIa-o1",
        "outputId": "d5ba1717-4b15-461b-9423-01b7e0ec2fc3"
      },
      "execution_count": null,
      "outputs": [
        {
          "output_type": "stream",
          "name": "stdout",
          "text": [
            "                  popularity  duration_ms  danceability    energy  loudness  \\\n",
            "popularity          1.000000    -0.007101      0.035448  0.001056  0.050423   \n",
            "duration_ms        -0.007101     1.000000     -0.073426  0.058523 -0.003470   \n",
            "danceability        0.035448    -0.073426      1.000000  0.134325  0.259077   \n",
            "energy              0.001056     0.058523      0.134325  1.000000  0.761690   \n",
            "loudness            0.050423    -0.003470      0.259077  0.761690  1.000000   \n",
            "speechiness        -0.044927    -0.062600      0.108626  0.142509  0.060826   \n",
            "acousticness       -0.025472    -0.103788     -0.171533 -0.733906 -0.589803   \n",
            "instrumentalness   -0.095139     0.124371     -0.185606 -0.181879 -0.433477   \n",
            "liveness           -0.005387     0.010321     -0.131617  0.184796  0.076899   \n",
            "valence            -0.040534    -0.154479      0.477341  0.258934  0.279848   \n",
            "tempo               0.013205     0.024346     -0.050450  0.247851  0.212446   \n",
            "time_signature      0.031073     0.018225      0.207218  0.187126  0.191992   \n",
            "\n",
            "                  speechiness  acousticness  instrumentalness  liveness  \\\n",
            "popularity          -0.044927     -0.025472         -0.095139 -0.005387   \n",
            "duration_ms         -0.062600     -0.103788          0.124371  0.010321   \n",
            "danceability         0.108626     -0.171533         -0.185606 -0.131617   \n",
            "energy               0.142509     -0.733906         -0.181879  0.184796   \n",
            "loudness             0.060826     -0.589803         -0.433477  0.076899   \n",
            "speechiness          1.000000     -0.002186         -0.089616  0.205219   \n",
            "acousticness        -0.002186      1.000000          0.104027 -0.020700   \n",
            "instrumentalness    -0.089616      0.104027          1.000000 -0.079893   \n",
            "liveness             0.205219     -0.020700         -0.079893  1.000000   \n",
            "valence              0.036635     -0.107070         -0.324312  0.019086   \n",
            "tempo                0.017273     -0.208224         -0.050330  0.000600   \n",
            "time_signature      -0.000011     -0.176138         -0.082580 -0.023651   \n",
            "\n",
            "                   valence     tempo  time_signature  \n",
            "popularity       -0.040534  0.013205        0.031073  \n",
            "duration_ms      -0.154479  0.024346        0.018225  \n",
            "danceability      0.477341 -0.050450        0.207218  \n",
            "energy            0.258934  0.247851        0.187126  \n",
            "loudness          0.279848  0.212446        0.191992  \n",
            "speechiness       0.036635  0.017273       -0.000011  \n",
            "acousticness     -0.107070 -0.208224       -0.176138  \n",
            "instrumentalness -0.324312 -0.050330       -0.082580  \n",
            "liveness          0.019086  0.000600       -0.023651  \n",
            "valence           1.000000  0.078273        0.133686  \n",
            "tempo             0.078273  1.000000        0.066641  \n",
            "time_signature    0.133686  0.066641        1.000000  \n"
          ]
        },
        {
          "output_type": "execute_result",
          "data": {
            "text/plain": [
              "<Axes: >"
            ]
          },
          "metadata": {},
          "execution_count": 6
        },
        {
          "output_type": "display_data",
          "data": {
            "text/plain": [
              "<Figure size 640x480 with 2 Axes>"
            ],
            "image/png": "[encoded data removed]"
          },
          "metadata": {}
        }
      ]
    },
    {
      "cell_type": "code",
      "source": [
        "#Variable Transformation\n",
        "\n",
        "df_sample2 = df_sample1.copy()\n",
        "df_sample2[nvar_list] = (df_sample1[nvar_list] - df_sample1[nvar_list].mean())/df_sample1[nvar_list].std()\n",
        "\n",
        "df_sample3 = df_sample2.copy()\n",
        "df_sample3[cvar_list] = df_sample2[cvar_list].astype('category')\n",
        "df_sample3[nvar_list] = df_sample2[nvar_list].astype('float64')\n",
        "\n",
        "df_sample4 = df_sample3.copy()\n",
        "\n",
        "# Use Popularity to Make Unique Identtifiers for Artist, KFolds ensure no data leakage as Popularity is Target Variable\n",
        "from sklearn.model_selection import KFold\n",
        "\n",
        "df_sample4['artists_encoded'] = np.nan\n",
        "\n",
        "kf = KFold(n_splits=5, shuffle=True, random_state=1)\n",
        "\n",
        "# Calculate artist popularity across the entire dataset to avoid NaNs\n",
        "artist_popularity = df_sample4.groupby('artists', observed=False)['popularity'].mean()\n",
        "df_sample4['artists_encoded'] = df_sample4['artists'].map(artist_popularity)\n",
        "\n",
        "#The rest of the code remains the same.\n",
        "\n",
        "\n",
        "#Track Genre Label Making\n",
        "\n",
        "from sklearn.preprocessing import LabelEncoder\n",
        "\n",
        "label_encoder = LabelEncoder()\n",
        "\n",
        "df_sample4['track_genre_encoded'] = label_encoder.fit_transform(df_sample4['track_genre'])\n",
        "\n",
        "print(df_sample4[['track_genre', 'track_genre_encoded']].head())"
      ],
      "metadata": {
        "id": "qORJugo1RLYj",
        "colab": {
          "base_uri": "https://localhost:8080/"
        },
        "outputId": "a0782ce6-c82c-4594-be00-e2f90a15ade5"
      },
      "execution_count": null,
      "outputs": [
        {
          "output_type": "stream",
          "name": "stdout",
          "text": [
            "  track_genre  track_genre_encoded\n",
            "0    acoustic                    0\n",
            "1    acoustic                    0\n",
            "2    acoustic                    0\n",
            "3    acoustic                    0\n",
            "4    acoustic                    0\n"
          ]
        }
      ]
    },
    {
      "cell_type": "code",
      "source": [
        "# Drop redundant Columns and Verify Clean Data\n",
        "\n",
        "df_sample5 = df_sample4.copy()\n",
        "\n",
        "df_sample5.drop(columns=['artists','track_genre'], inplace=True)\n",
        "\n",
        "print(df_sample5.head(10))\n",
        "print(df_sample5.dtypes)\n",
        "print(df_sample5.shape)"
      ],
      "metadata": {
        "id": "p6aXUbUvTp-_",
        "colab": {
          "base_uri": "https://localhost:8080/"
        },
        "outputId": "7e32e90c-e149-446e-8de1-839ac263ad7d"
      },
      "execution_count": null,
      "outputs": [
        {
          "output_type": "stream",
          "name": "stdout",
          "text": [
            "   popularity  duration_ms explicit  danceability    energy  loudness  \\\n",
            "0          73     0.024575    False      0.629241 -0.717145  0.300827   \n",
            "1          55    -0.730856    False     -0.845904 -1.889971 -1.784736   \n",
            "2          57    -0.160331    False     -0.742183 -1.122665 -0.293287   \n",
            "3          71    -0.243213    False     -1.733297 -2.312984 -2.039243   \n",
            "4          82    -0.271918    False      0.295029 -0.788707 -0.282749   \n",
            "5          58    -0.128513    False      0.698389 -0.637631 -0.108969   \n",
            "6          74     0.012776    False     -0.920814 -1.965509 -0.111951   \n",
            "7          80     0.139023    False      0.784823 -0.784731 -0.213157   \n",
            "8          74    -0.358033    False      0.335365 -0.904002 -0.087693   \n",
            "9          56    -0.209093    False     -0.719134 -0.037303  0.296055   \n",
            "\n",
            "   speechiness  acousticness  instrumentalness  liveness   valence     tempo  \\\n",
            "0     0.551845     -0.850198         -0.504106  0.758740  0.929302 -1.141858   \n",
            "1    -0.078993      1.831724         -0.504092 -0.591208 -0.798686 -1.489711   \n",
            "2    -0.273825     -0.315497         -0.504110 -0.507165 -1.365682 -1.528305   \n",
            "3    -0.457307      1.774585         -0.503881 -0.428374 -1.276969  1.987850   \n",
            "4    -0.303144      0.463397         -0.504110 -0.686282 -1.184398 -0.073348   \n",
            "5     0.192447     -0.077920         -0.504110 -0.128969  0.740303 -0.804946   \n",
            "6    -0.464873      1.630234         -0.504100 -0.642159 -1.533467  0.638336   \n",
            "7    -0.406234      0.734055         -0.504110 -0.610643  0.917730  0.961104   \n",
            "8    -0.451632     -0.062883         -0.504110 -0.328572  0.751874  0.264865   \n",
            "9    -0.521620      0.334082         -0.490574 -0.735658 -1.072541 -1.442676   \n",
            "\n",
            "   time_signature  artists_encoded  track_genre_encoded  \n",
            "0        0.221822        58.000000                    0  \n",
            "1        0.221822        42.923077                    0  \n",
            "2        0.221822        57.000000                    0  \n",
            "3       -2.089671        53.933333                    0  \n",
            "4        0.221822        41.727273                    0  \n",
            "5        0.221822        48.250000                    0  \n",
            "6       -2.089671        63.000000                    0  \n",
            "7        0.221822        27.725490                    0  \n",
            "8        0.221822        71.000000                    0  \n",
            "9        0.221822        50.750000                    0  \n",
            "popularity                int64\n",
            "duration_ms             float64\n",
            "explicit               category\n",
            "danceability            float64\n",
            "energy                  float64\n",
            "loudness                float64\n",
            "speechiness             float64\n",
            "acousticness            float64\n",
            "instrumentalness        float64\n",
            "liveness                float64\n",
            "valence                 float64\n",
            "tempo                   float64\n",
            "time_signature          float64\n",
            "artists_encoded         float64\n",
            "track_genre_encoded       int64\n",
            "dtype: object\n",
            "(114000, 15)\n"
          ]
        }
      ]
    },
    {
      "cell_type": "code",
      "source": [
        "#from google.colab import files\n",
        "\n",
        "#df_sample5.to_csv('df_sample5.csv', encoding = 'utf-8-sig')\n",
        "#files.download('df_sample5.csv')"
      ],
      "metadata": {
        "id": "j8_k0dDiXSQv"
      },
      "execution_count": null,
      "outputs": []
    },
    {
      "cell_type": "code",
      "source": [
        "from sklearn.model_selection import train_test_split\n",
        "\n",
        "df4partition = df_sample5\n",
        "testpart_size = 0.2\n",
        "\n",
        "df_nontestData, df_testData = train_test_split(df4partition, test_size=testpart_size, random_state=1)\n",
        "\n",
        "print(df_nontestData)"
      ],
      "metadata": {
        "colab": {
          "base_uri": "https://localhost:8080/"
        },
        "id": "6Z1GOAwWuAu4",
        "outputId": "0d781cdd-efe5-4bb5-db90-5c8b804e4d82"
      },
      "execution_count": null,
      "outputs": [
        {
          "output_type": "stream",
          "name": "stdout",
          "text": [
            "        popularity  duration_ms explicit  danceability    energy  loudness  \\\n",
            "104483          60     0.066831    False     -0.868953 -1.126640 -0.054886   \n",
            "17411           39    -0.382377    False      0.646528  1.234916  1.089997   \n",
            "73414           43     0.902236    False      1.136323 -1.456622 -0.703083   \n",
            "95288           33     0.452049    False      1.130561  0.666393  0.656540   \n",
            "77403           45    -0.122921    False     -0.125618  0.169433  0.074753   \n",
            "...            ...          ...      ...           ...       ...       ...   \n",
            "50057           55     0.553943    False     -0.949625  0.022332  0.202007   \n",
            "98047            0    -0.622969    False     -1.110970 -2.311394 -2.055746   \n",
            "5192            60    -1.400544    False     -0.523216 -2.235061 -4.009682   \n",
            "77708           44    -0.287827    False      0.456373  0.765785 -0.165636   \n",
            "98539           24    -0.797306    False     -2.200042 -2.289925 -2.267901   \n",
            "\n",
            "        speechiness  acousticness  instrumentalness  liveness   valence  \\\n",
            "104483    -0.363674      0.484448         -0.504110 -0.538681 -1.381111   \n",
            "17411     -0.236939     -0.946983          1.711976  1.583416 -1.153541   \n",
            "73414     -0.427987     -0.213249          1.857346  0.370039 -0.142976   \n",
            "95288     -0.367457     -0.273395         -0.504110 -0.699939  0.829017   \n",
            "77403     -0.370294      1.007720         -0.504110  2.628707  1.257157   \n",
            "...             ...           ...               ...       ...       ...   \n",
            "50057     -0.497975     -0.938583         -0.504052 -0.538681  0.130879   \n",
            "98047     -0.154656      1.891871         -0.504110 -0.570197 -1.510324   \n",
            "5192      -0.513108      1.179137          2.280534  0.679949 -1.296254   \n",
            "77708     -0.392048      0.409265         -0.504110  3.332571  1.095158   \n",
            "98539     -0.448795      1.458818          2.622961 -0.585955 -1.679651   \n",
            "\n",
            "           tempo  time_signature  artists_encoded  track_genre_encoded  \n",
            "104483 -1.384501       -2.089671        59.666667                  104  \n",
            "17411   0.196315        0.221822        45.272727                   17  \n",
            "73414  -0.238234        0.221822        43.000000                   73  \n",
            "95288  -1.185590        0.221822        32.342105                   95  \n",
            "77403   1.265925        0.221822        45.050000                   77  \n",
            "...          ...             ...              ...                  ...  \n",
            "50057   1.528616        0.221822        36.166667                   50  \n",
            "98047  -1.685753        0.221822        10.800000                   98  \n",
            "5192   -2.173274        0.221822        47.303571                    5  \n",
            "77708  -0.739999        0.221822        44.423077                   77  \n",
            "98539  -1.165175       -2.089671        14.000000                   98  \n",
            "\n",
            "[91200 rows x 15 columns]\n"
          ]
        }
      ]
    },
    {
      "cell_type": "code",
      "source": [
        "# Count NaN values per column\n",
        "nan_count_per_column = df_nontestData.isna().sum()\n",
        "\n",
        "# Count total NaN values in the entire DataFrame\n",
        "total_nan_count = df_nontestData.isna().sum().sum()\n",
        "\n",
        "print(\"NaN count per column:\")\n",
        "print(nan_count_per_column)\n",
        "print(f\"\\nTotal NaN values in the DataFrame: {total_nan_count}\")\n"
      ],
      "metadata": {
        "colab": {
          "base_uri": "https://localhost:8080/"
        },
        "id": "g1033aGMyfn_",
        "outputId": "728f4bf1-8234-4350-adcd-6cf65f65cd6f"
      },
      "execution_count": null,
      "outputs": [
        {
          "output_type": "stream",
          "name": "stdout",
          "text": [
            "NaN count per column:\n",
            "popularity             0\n",
            "duration_ms            0\n",
            "explicit               0\n",
            "danceability           0\n",
            "energy                 0\n",
            "loudness               0\n",
            "speechiness            0\n",
            "acousticness           0\n",
            "instrumentalness       0\n",
            "liveness               0\n",
            "valence                0\n",
            "tempo                  0\n",
            "time_signature         0\n",
            "artists_encoded        0\n",
            "track_genre_encoded    0\n",
            "dtype: int64\n",
            "\n",
            "Total NaN values in the DataFrame: 0\n"
          ]
        }
      ]
    },
    {
      "cell_type": "code",
      "source": [
        "df_nontestData['popularity_binary'] = (df_nontestData['popularity'] >= 50).astype(int)\n",
        "DV = 'popularity_binary'\n",
        "y = df_nontestData[DV]\n",
        "X = df_nontestData.drop(columns=['popularity', DV])\n"
      ],
      "metadata": {
        "id": "JC0m7T7Vy8Mf"
      },
      "execution_count": null,
      "outputs": []
    },
    {
      "cell_type": "code",
      "source": [
        "from sklearn.linear_model import LogisticRegressionCV\n",
        "from sklearn.model_selection import StratifiedKFold\n",
        "from sklearn import metrics\n",
        "from imblearn.over_sampling import SMOTE\n",
        "import numpy as np\n",
        "\n",
        "# Handling class imbalance with SMOTE\n",
        "smote = SMOTE(random_state=1)\n",
        "X_resampled, y_resampled = smote.fit_resample(X, y)\n",
        "\n",
        "# Log-space alphas\n",
        "min_alpha = 0.001\n",
        "max_alpha = 100\n",
        "n_candidates = 1000\n",
        "alphas = np.logspace(np.log10(min_alpha), np.log10(max_alpha), n_candidates)\n",
        "\n",
        "# Stratified K-Fold\n",
        "kfolds = StratifiedKFold(n_splits=5, shuffle=True, random_state=1)\n",
        "\n",
        "# Logistic Regression CV\n",
        "log_reg_cv = LogisticRegressionCV(Cs=alphas, max_iter=2000, cv=kfolds, scoring='roc_auc', solver='liblinear', n_jobs=-1)\n",
        "log_reg_cv.fit(X_resampled, y_resampled)\n",
        "\n",
        "# Optimal penalty\n",
        "optimal_penalty = log_reg_cv.C_[0]\n",
        "print(f\"Optimal penalty level (C) of the final selected model: {optimal_penalty}\")\n",
        "\n",
        "# Evaluate on the original test set (example)\n",
        "y_test_actual = df_testData['popularity_binary']\n",
        "X_test = df_testData.drop(columns=['popularity', 'popularity_binary'])\n",
        "y_test_predicted = log_reg_cv.predict(X_test)\n",
        "print(metrics.confusion_matrix(y_test_actual, y_test_predicted))\n",
        "print(metrics.accuracy_score(y_test_actual, y_test_predicted))\n"
      ],
      "metadata": {
        "colab": {
          "base_uri": "https://localhost:8080/",
          "height": 408
        },
        "id": "Iqs2DZgf12YX",
        "outputId": "18ea2c25-5e28-48c7-fb1d-1025e868be23"
      },
      "execution_count": null,
      "outputs": [
        {
          "output_type": "error",
          "ename": "ValueError",
          "evalue": "Input X contains NaN.\nLogisticRegressionCV does not accept missing values encoded as NaN natively. For supervised learning, you might want to consider sklearn.ensemble.HistGradientBoostingClassifier and Regressor which accept missing values encoded as NaNs natively. Alternatively, it is possible to preprocess the data, for instance by using an imputer transformer in a pipeline or drop samples with missing values. See https://scikit-learn.org/stable/modules/impute.html You can find a list of all estimators that handle NaN values at the following page: https://scikit-learn.org/stable/modules/impute.html#estimators-that-handle-nan-values",
          "traceback": [
            "\u001b[0;31m---------------------------------------------------------------------------\u001b[0m",
            "\u001b[0;31mValueError\u001b[0m                                Traceback (most recent call last)",
            "\u001b[0;32m<ipython-input-13-663acbcafadd>\u001b[0m in \u001b[0;36m<cell line: 22>\u001b[0;34m()\u001b[0m\n\u001b[1;32m     20\u001b[0m \u001b[0;31m# Logistic Regression CV\u001b[0m\u001b[0;34m\u001b[0m\u001b[0;34m\u001b[0m\u001b[0m\n\u001b[1;32m     21\u001b[0m \u001b[0mlog_reg_cv\u001b[0m \u001b[0;34m=\u001b[0m \u001b[0mLogisticRegressionCV\u001b[0m\u001b[0;34m(\u001b[0m\u001b[0mCs\u001b[0m\u001b[0;34m=\u001b[0m\u001b[0malphas\u001b[0m\u001b[0;34m,\u001b[0m \u001b[0mmax_iter\u001b[0m\u001b[0;34m=\u001b[0m\u001b[0;36m2000\u001b[0m\u001b[0;34m,\u001b[0m \u001b[0mcv\u001b[0m\u001b[0;34m=\u001b[0m\u001b[0mkfolds\u001b[0m\u001b[0;34m,\u001b[0m \u001b[0mscoring\u001b[0m\u001b[0;34m=\u001b[0m\u001b[0;34m'roc_auc'\u001b[0m\u001b[0;34m,\u001b[0m \u001b[0msolver\u001b[0m\u001b[0;34m=\u001b[0m\u001b[0;34m'liblinear'\u001b[0m\u001b[0;34m,\u001b[0m \u001b[0mn_jobs\u001b[0m\u001b[0;34m=\u001b[0m\u001b[0;34m-\u001b[0m\u001b[0;36m1\u001b[0m\u001b[0;34m)\u001b[0m\u001b[0;34m\u001b[0m\u001b[0;34m\u001b[0m\u001b[0m\n\u001b[0;32m---> 22\u001b[0;31m \u001b[0mlog_reg_cv\u001b[0m\u001b[0;34m.\u001b[0m\u001b[0mfit\u001b[0m\u001b[0;34m(\u001b[0m\u001b[0mX_resampled\u001b[0m\u001b[0;34m,\u001b[0m \u001b[0my_resampled\u001b[0m\u001b[0;34m)\u001b[0m\u001b[0;34m\u001b[0m\u001b[0;34m\u001b[0m\u001b[0m\n\u001b[0m\u001b[1;32m     23\u001b[0m \u001b[0;34m\u001b[0m\u001b[0m\n\u001b[1;32m     24\u001b[0m \u001b[0;31m# Optimal penalty\u001b[0m\u001b[0;34m\u001b[0m\u001b[0;34m\u001b[0m\u001b[0m\n",
            "\u001b[0;32m/usr/local/lib/python3.10/dist-packages/sklearn/base.py\u001b[0m in \u001b[0;36mwrapper\u001b[0;34m(estimator, *args, **kwargs)\u001b[0m\n\u001b[1;32m   1471\u001b[0m                 )\n\u001b[1;32m   1472\u001b[0m             ):\n\u001b[0;32m-> 1473\u001b[0;31m                 \u001b[0;32mreturn\u001b[0m \u001b[0mfit_method\u001b[0m\u001b[0;34m(\u001b[0m\u001b[0mestimator\u001b[0m\u001b[0;34m,\u001b[0m \u001b[0;34m*\u001b[0m\u001b[0margs\u001b[0m\u001b[0;34m,\u001b[0m \u001b[0;34m**\u001b[0m\u001b[0mkwargs\u001b[0m\u001b[0;34m)\u001b[0m\u001b[0;34m\u001b[0m\u001b[0;34m\u001b[0m\u001b[0m\n\u001b[0m\u001b[1;32m   1474\u001b[0m \u001b[0;34m\u001b[0m\u001b[0m\n\u001b[1;32m   1475\u001b[0m         \u001b[0;32mreturn\u001b[0m \u001b[0mwrapper\u001b[0m\u001b[0;34m\u001b[0m\u001b[0;34m\u001b[0m\u001b[0m\n",
            "\u001b[0;32m/usr/local/lib/python3.10/dist-packages/sklearn/linear_model/_logistic.py\u001b[0m in \u001b[0;36mfit\u001b[0;34m(self, X, y, sample_weight, **params)\u001b[0m\n\u001b[1;32m   1866\u001b[0m             \u001b[0ml1_ratios_\u001b[0m \u001b[0;34m=\u001b[0m \u001b[0;34m[\u001b[0m\u001b[0;32mNone\u001b[0m\u001b[0;34m]\u001b[0m\u001b[0;34m\u001b[0m\u001b[0;34m\u001b[0m\u001b[0m\n\u001b[1;32m   1867\u001b[0m \u001b[0;34m\u001b[0m\u001b[0m\n\u001b[0;32m-> 1868\u001b[0;31m         X, y = self._validate_data(\n\u001b[0m\u001b[1;32m   1869\u001b[0m             \u001b[0mX\u001b[0m\u001b[0;34m,\u001b[0m\u001b[0;34m\u001b[0m\u001b[0;34m\u001b[0m\u001b[0m\n\u001b[1;32m   1870\u001b[0m             \u001b[0my\u001b[0m\u001b[0;34m,\u001b[0m\u001b[0;34m\u001b[0m\u001b[0;34m\u001b[0m\u001b[0m\n",
            "\u001b[0;32m/usr/local/lib/python3.10/dist-packages/sklearn/base.py\u001b[0m in \u001b[0;36m_validate_data\u001b[0;34m(self, X, y, reset, validate_separately, cast_to_ndarray, **check_params)\u001b[0m\n\u001b[1;32m    648\u001b[0m                 \u001b[0my\u001b[0m \u001b[0;34m=\u001b[0m \u001b[0mcheck_array\u001b[0m\u001b[0;34m(\u001b[0m\u001b[0my\u001b[0m\u001b[0;34m,\u001b[0m \u001b[0minput_name\u001b[0m\u001b[0;34m=\u001b[0m\u001b[0;34m\"y\"\u001b[0m\u001b[0;34m,\u001b[0m \u001b[0;34m**\u001b[0m\u001b[0mcheck_y_params\u001b[0m\u001b[0;34m)\u001b[0m\u001b[0;34m\u001b[0m\u001b[0;34m\u001b[0m\u001b[0m\n\u001b[1;32m    649\u001b[0m             \u001b[0;32melse\u001b[0m\u001b[0;34m:\u001b[0m\u001b[0;34m\u001b[0m\u001b[0;34m\u001b[0m\u001b[0m\n\u001b[0;32m--> 650\u001b[0;31m                 \u001b[0mX\u001b[0m\u001b[0;34m,\u001b[0m \u001b[0my\u001b[0m \u001b[0;34m=\u001b[0m \u001b[0mcheck_X_y\u001b[0m\u001b[0;34m(\u001b[0m\u001b[0mX\u001b[0m\u001b[0;34m,\u001b[0m \u001b[0my\u001b[0m\u001b[0;34m,\u001b[0m \u001b[0;34m**\u001b[0m\u001b[0mcheck_params\u001b[0m\u001b[0;34m)\u001b[0m\u001b[0;34m\u001b[0m\u001b[0;34m\u001b[0m\u001b[0m\n\u001b[0m\u001b[1;32m    651\u001b[0m             \u001b[0mout\u001b[0m \u001b[0;34m=\u001b[0m \u001b[0mX\u001b[0m\u001b[0;34m,\u001b[0m \u001b[0my\u001b[0m\u001b[0;34m\u001b[0m\u001b[0;34m\u001b[0m\u001b[0m\n\u001b[1;32m    652\u001b[0m \u001b[0;34m\u001b[0m\u001b[0m\n",
            "\u001b[0;32m/usr/local/lib/python3.10/dist-packages/sklearn/utils/validation.py\u001b[0m in \u001b[0;36mcheck_X_y\u001b[0;34m(X, y, accept_sparse, accept_large_sparse, dtype, order, copy, force_writeable, force_all_finite, ensure_2d, allow_nd, multi_output, ensure_min_samples, ensure_min_features, y_numeric, estimator)\u001b[0m\n\u001b[1;32m   1299\u001b[0m         )\n\u001b[1;32m   1300\u001b[0m \u001b[0;34m\u001b[0m\u001b[0m\n\u001b[0;32m-> 1301\u001b[0;31m     X = check_array(\n\u001b[0m\u001b[1;32m   1302\u001b[0m         \u001b[0mX\u001b[0m\u001b[0;34m,\u001b[0m\u001b[0;34m\u001b[0m\u001b[0;34m\u001b[0m\u001b[0m\n\u001b[1;32m   1303\u001b[0m         \u001b[0maccept_sparse\u001b[0m\u001b[0;34m=\u001b[0m\u001b[0maccept_sparse\u001b[0m\u001b[0;34m,\u001b[0m\u001b[0;34m\u001b[0m\u001b[0;34m\u001b[0m\u001b[0m\n",
            "\u001b[0;32m/usr/local/lib/python3.10/dist-packages/sklearn/utils/validation.py\u001b[0m in \u001b[0;36mcheck_array\u001b[0;34m(array, accept_sparse, accept_large_sparse, dtype, order, copy, force_writeable, force_all_finite, ensure_2d, allow_nd, ensure_min_samples, ensure_min_features, estimator, input_name)\u001b[0m\n\u001b[1;32m   1062\u001b[0m \u001b[0;34m\u001b[0m\u001b[0m\n\u001b[1;32m   1063\u001b[0m         \u001b[0;32mif\u001b[0m \u001b[0mforce_all_finite\u001b[0m\u001b[0;34m:\u001b[0m\u001b[0;34m\u001b[0m\u001b[0;34m\u001b[0m\u001b[0m\n\u001b[0;32m-> 1064\u001b[0;31m             _assert_all_finite(\n\u001b[0m\u001b[1;32m   1065\u001b[0m                 \u001b[0marray\u001b[0m\u001b[0;34m,\u001b[0m\u001b[0;34m\u001b[0m\u001b[0;34m\u001b[0m\u001b[0m\n\u001b[1;32m   1066\u001b[0m                 \u001b[0minput_name\u001b[0m\u001b[0;34m=\u001b[0m\u001b[0minput_name\u001b[0m\u001b[0;34m,\u001b[0m\u001b[0;34m\u001b[0m\u001b[0;34m\u001b[0m\u001b[0m\n",
            "\u001b[0;32m/usr/local/lib/python3.10/dist-packages/sklearn/utils/validation.py\u001b[0m in \u001b[0;36m_assert_all_finite\u001b[0;34m(X, allow_nan, msg_dtype, estimator_name, input_name)\u001b[0m\n\u001b[1;32m    121\u001b[0m         \u001b[0;32mreturn\u001b[0m\u001b[0;34m\u001b[0m\u001b[0;34m\u001b[0m\u001b[0m\n\u001b[1;32m    122\u001b[0m \u001b[0;34m\u001b[0m\u001b[0m\n\u001b[0;32m--> 123\u001b[0;31m     _assert_all_finite_element_wise(\n\u001b[0m\u001b[1;32m    124\u001b[0m         \u001b[0mX\u001b[0m\u001b[0;34m,\u001b[0m\u001b[0;34m\u001b[0m\u001b[0;34m\u001b[0m\u001b[0m\n\u001b[1;32m    125\u001b[0m         \u001b[0mxp\u001b[0m\u001b[0;34m=\u001b[0m\u001b[0mxp\u001b[0m\u001b[0;34m,\u001b[0m\u001b[0;34m\u001b[0m\u001b[0;34m\u001b[0m\u001b[0m\n",
            "\u001b[0;32m/usr/local/lib/python3.10/dist-packages/sklearn/utils/validation.py\u001b[0m in \u001b[0;36m_assert_all_finite_element_wise\u001b[0;34m(X, xp, allow_nan, msg_dtype, estimator_name, input_name)\u001b[0m\n\u001b[1;32m    170\u001b[0m                 \u001b[0;34m\"#estimators-that-handle-nan-values\"\u001b[0m\u001b[0;34m\u001b[0m\u001b[0;34m\u001b[0m\u001b[0m\n\u001b[1;32m    171\u001b[0m             )\n\u001b[0;32m--> 172\u001b[0;31m         \u001b[0;32mraise\u001b[0m \u001b[0mValueError\u001b[0m\u001b[0;34m(\u001b[0m\u001b[0mmsg_err\u001b[0m\u001b[0;34m)\u001b[0m\u001b[0;34m\u001b[0m\u001b[0;34m\u001b[0m\u001b[0m\n\u001b[0m\u001b[1;32m    173\u001b[0m \u001b[0;34m\u001b[0m\u001b[0m\n\u001b[1;32m    174\u001b[0m \u001b[0;34m\u001b[0m\u001b[0m\n",
            "\u001b[0;31mValueError\u001b[0m: Input X contains NaN.\nLogisticRegressionCV does not accept missing values encoded as NaN natively. For supervised learning, you might want to consider sklearn.ensemble.HistGradientBoostingClassifier and Regressor which accept missing values encoded as NaNs natively. Alternatively, it is possible to preprocess the data, for instance by using an imputer transformer in a pipeline or drop samples with missing values. See https://scikit-learn.org/stable/modules/impute.html You can find a list of all estimators that handle NaN values at the following page: https://scikit-learn.org/stable/modules/impute.html#estimators-that-handle-nan-values"
          ]
        }
      ]
    }
  ]
}